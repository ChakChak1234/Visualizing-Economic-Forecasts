{
 "cells": [
  {
   "cell_type": "markdown",
   "metadata": {},
   "source": [
    "#Author: Rohan Koodli\n",
    "Implementation of Electricity Consumption Microsimulation tool in Python with scikit-learn. This file is under active development."
   ]
  },
  {
   "cell_type": "markdown",
   "metadata": {},
   "source": []
  },
  {
   "cell_type": "markdown",
   "metadata": {},
   "source": [
    "Formatting the data"
   ]
  },
  {
   "cell_type": "code",
   "execution_count": 13,
   "metadata": {
    "collapsed": false
   },
   "outputs": [],
   "source": [
    "import pandas as pd\n",
    "import numpy as np\n",
    "import os\n",
    "\n",
    "#getting current working directory\n",
    "path = os.getcwd() \n",
    "\n",
    "estimates = pd.read_csv(path + '/data/WPP-ESTIMATES-1950-2015.tab.txt',\n",
    "                        sep='\\t', index_col=None, na_values='')\n",
    "\n",
    "\n",
    "projections = pd.read_csv(path + '/data/WPP-PROJECTIONS-2015-2100.tab.txt',\n",
    "                          sep='\\t',index_col=None,na_values='')\n",
    "\n",
    "#print projections[0:2]\n",
    "\n",
    "#estimates.drop(estimates.columns[[0,1,2,3]],axis=1,inplace=True)\n",
    "\n",
    "estimates.drop(estimates.columns[[0,1,2,3]], axis=1, inplace=True)\n",
    "#print estimates[0:2]\n",
    "projections.drop(projections.columns[[0,1,2,3,70,71,72,73,74,75,76,77,78,79,80,81,82,83,84,85,86,87,88,89]], axis=1, inplace=True)\n",
    "#print projections[0:2]\n",
    "\n",
    "\n",
    "# putting data in numpy arrays\n",
    "medVariance_projections = np.array(projections[0:273])\n",
    "highVariance_projections = np.array(projections[274:547])\n",
    "lowVariance_projections = np.array(projections[548:821])\n",
    "constantFertility_projections = np.array(projections[822:1095])\n",
    "\n",
    "estimates = np.array(estimates)"
   ]
  },
  {
   "cell_type": "markdown",
   "metadata": {},
   "source": [
    "Now, we make the predictions based on population. We first import multiple models from the scikit-learn library."
   ]
  },
  {
   "cell_type": "code",
   "execution_count": 14,
   "metadata": {
    "collapsed": true
   },
   "outputs": [],
   "source": [
    "from sklearn import ensemble,tree,neighbors\n",
    "rfr = ensemble.RandomForestRegressor()\n",
    "dtr = tree.DecisionTreeRegressor()\n",
    "knr = neighbors.KNeighborsRegressor()\n",
    "#nnn = neural_network.BernoulliRBM()"
   ]
  },
  {
   "cell_type": "markdown",
   "metadata": {},
   "source": [
    "Evaluate the accuracy for each model based on cross-validation"
   ]
  },
  {
   "cell_type": "markdown",
   "metadata": {},
   "source": [
    "These predictions are for the Medium Variance Projections. The arrays below whow the accuracy of each model using cross-validation"
   ]
  },
  {
   "cell_type": "code",
   "execution_count": 7,
   "metadata": {
    "collapsed": false
   },
   "outputs": [
    {
     "name": "stdout",
     "output_type": "stream",
     "text": [
      " Random Forests"
     ]
    },
    {
     "ename": "NameError",
     "evalue": "name 'estimates' is not defined",
     "output_type": "error",
     "traceback": [
      "\u001b[1;31m---------------------------------------------------------------------------\u001b[0m",
      "\u001b[1;31mNameError\u001b[0m                                 Traceback (most recent call last)",
      "\u001b[1;32m<ipython-input-7-b0deb6509628>\u001b[0m in \u001b[0;36m<module>\u001b[1;34m()\u001b[0m\n\u001b[0;32m      2\u001b[0m \u001b[1;32mfrom\u001b[0m \u001b[0msklearn\u001b[0m \u001b[1;32mimport\u001b[0m \u001b[0mensemble\u001b[0m\u001b[1;33m,\u001b[0m\u001b[0mtree\u001b[0m\u001b[1;33m,\u001b[0m\u001b[0mneighbors\u001b[0m\u001b[1;33m\u001b[0m\u001b[0m\n\u001b[0;32m      3\u001b[0m \u001b[0mrfr\u001b[0m \u001b[1;33m=\u001b[0m \u001b[0mensemble\u001b[0m\u001b[1;33m.\u001b[0m\u001b[0mRandomForestRegressor\u001b[0m\u001b[1;33m(\u001b[0m\u001b[1;33m)\u001b[0m\u001b[1;33m\u001b[0m\u001b[0m\n\u001b[1;32m----> 4\u001b[1;33m \u001b[1;32mprint\u001b[0m \u001b[1;34m'Random Forests'\u001b[0m\u001b[1;33m,\u001b[0m\u001b[0mcross_val_score\u001b[0m\u001b[1;33m(\u001b[0m\u001b[0mrfr\u001b[0m\u001b[1;33m,\u001b[0m\u001b[0mestimates\u001b[0m\u001b[1;33m,\u001b[0m\u001b[0mmedVariance_projections\u001b[0m\u001b[1;33m)\u001b[0m\u001b[1;33m\u001b[0m\u001b[0m\n\u001b[0m\u001b[0;32m      5\u001b[0m \u001b[1;32mprint\u001b[0m \u001b[1;34m'Decision Trees'\u001b[0m\u001b[1;33m,\u001b[0m\u001b[0mcross_val_score\u001b[0m\u001b[1;33m(\u001b[0m\u001b[0mdtr\u001b[0m\u001b[1;33m,\u001b[0m\u001b[0mestimates\u001b[0m\u001b[1;33m,\u001b[0m\u001b[0mmedVariance_projections\u001b[0m\u001b[1;33m)\u001b[0m\u001b[1;33m\u001b[0m\u001b[0m\n\u001b[0;32m      6\u001b[0m \u001b[1;32mprint\u001b[0m \u001b[1;34m'Nearest Neighbors'\u001b[0m\u001b[1;33m,\u001b[0m\u001b[0mcross_val_score\u001b[0m\u001b[1;33m(\u001b[0m\u001b[0mknr\u001b[0m\u001b[1;33m,\u001b[0m\u001b[0mestimates\u001b[0m\u001b[1;33m,\u001b[0m\u001b[0mmedVariance_projections\u001b[0m\u001b[1;33m)\u001b[0m\u001b[1;33m\u001b[0m\u001b[0m\n",
      "\u001b[1;31mNameError\u001b[0m: name 'estimates' is not defined"
     ]
    }
   ],
   "source": [
    "from sklearn.cross_validation import cross_val_score\n",
    "print 'Random Forests',cross_val_score(rfr,estimates,medVariance_projections)\n",
    "print 'Decision Trees',cross_val_score(dtr,estimates,medVariance_projections)\n",
    "print 'Nearest Neighbors',cross_val_score(knr,estimates,medVariance_projections)"
   ]
  },
  {
   "cell_type": "code",
   "execution_count": 5,
   "metadata": {
    "collapsed": false
   },
   "outputs": [
    {
     "name": "stdout",
     "output_type": "stream",
     "text": [
      " Random Forests"
     ]
    },
    {
     "ename": "NameError",
     "evalue": "name 'rfr' is not defined",
     "output_type": "error",
     "traceback": [
      "\u001b[1;31m---------------------------------------------------------------------------\u001b[0m",
      "\u001b[1;31mNameError\u001b[0m                                 Traceback (most recent call last)",
      "\u001b[1;32m<ipython-input-5-8279633c3dfb>\u001b[0m in \u001b[0;36m<module>\u001b[1;34m()\u001b[0m\n\u001b[0;32m      1\u001b[0m \u001b[1;32mfrom\u001b[0m \u001b[0msklearn\u001b[0m\u001b[1;33m.\u001b[0m\u001b[0mcross_validation\u001b[0m \u001b[1;32mimport\u001b[0m \u001b[0mcross_val_score\u001b[0m\u001b[1;33m\u001b[0m\u001b[0m\n\u001b[1;32m----> 2\u001b[1;33m \u001b[1;32mprint\u001b[0m \u001b[1;34m'Random Forests'\u001b[0m\u001b[1;33m,\u001b[0m\u001b[0mcross_val_score\u001b[0m\u001b[1;33m(\u001b[0m\u001b[0mrfr\u001b[0m\u001b[1;33m,\u001b[0m\u001b[0mestimates\u001b[0m\u001b[1;33m,\u001b[0m\u001b[0mhighVariance_projections\u001b[0m\u001b[1;33m)\u001b[0m\u001b[1;33m\u001b[0m\u001b[0m\n\u001b[0m\u001b[0;32m      3\u001b[0m \u001b[1;32mprint\u001b[0m \u001b[1;34m'Decision Trees'\u001b[0m\u001b[1;33m,\u001b[0m\u001b[0mcross_val_score\u001b[0m\u001b[1;33m(\u001b[0m\u001b[0mdtr\u001b[0m\u001b[1;33m,\u001b[0m\u001b[0mestimates\u001b[0m\u001b[1;33m,\u001b[0m\u001b[0mhighVariance_projections\u001b[0m\u001b[1;33m)\u001b[0m\u001b[1;33m\u001b[0m\u001b[0m\n\u001b[0;32m      4\u001b[0m \u001b[1;32mprint\u001b[0m \u001b[1;34m'Nearest Neighbors'\u001b[0m\u001b[1;33m,\u001b[0m\u001b[0mcross_val_score\u001b[0m\u001b[1;33m(\u001b[0m\u001b[0mknr\u001b[0m\u001b[1;33m,\u001b[0m\u001b[0mestimates\u001b[0m\u001b[1;33m,\u001b[0m\u001b[0mhighVariance_projections\u001b[0m\u001b[1;33m)\u001b[0m\u001b[1;33m\u001b[0m\u001b[0m\n",
      "\u001b[1;31mNameError\u001b[0m: name 'rfr' is not defined"
     ]
    }
   ],
   "source": [
    "from sklearn.cross_validation import cross_val_score\n",
    "print 'Random Forests',cross_val_score(rfr,estimates,highVariance_projections)\n",
    "print 'Decision Trees',cross_val_score(dtr,estimates,highVariance_projections)\n",
    "print 'Nearest Neighbors',cross_val_score(knr,estimates,highVariance_projections)"
   ]
  },
  {
   "cell_type": "code",
   "execution_count": null,
   "metadata": {
    "collapsed": true
   },
   "outputs": [],
   "source": []
  }
 ],
 "metadata": {
  "anaconda-cloud": {},
  "kernelspec": {
   "display_name": "Python [Root]",
   "language": "python",
   "name": "Python [Root]"
  },
  "language_info": {
   "codemirror_mode": {
    "name": "ipython",
    "version": 2
   },
   "file_extension": ".py",
   "mimetype": "text/x-python",
   "name": "python",
   "nbconvert_exporter": "python",
   "pygments_lexer": "ipython2",
   "version": "2.7.12"
  }
 },
 "nbformat": 4,
 "nbformat_minor": 0
}
