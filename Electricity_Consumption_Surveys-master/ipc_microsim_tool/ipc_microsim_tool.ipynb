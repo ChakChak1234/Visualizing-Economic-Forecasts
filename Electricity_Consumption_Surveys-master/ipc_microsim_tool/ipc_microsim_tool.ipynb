{
 "cells": [
  {
   "cell_type": "code",
   "execution_count": 97,
   "metadata": {
    "collapsed": false
   },
   "outputs": [],
   "source": [
    "%matplotlib inline\n",
    "import pandas as pd\n",
    "import patsy\n",
    "import random\n",
    "import statsmodels.formula.api as smf\n",
    "from mpltools import style\n",
    "from ipc_microsim_tool import IPCmicrosimTool as imt\n",
    "import matplotlib.pyplot as plt\n",
    "style.use('ggplot')"
   ]
  },
  {
   "cell_type": "code",
   "execution_count": 98,
   "metadata": {
    "collapsed": false
   },
   "outputs": [
    {
     "name": "stdout",
     "output_type": "stream",
     "text": [
      "None\n",
      "None\n"
     ]
    }
   ],
   "source": [
    "pop = imt.population()\n",
    "print pop.country\n",
    "print pop.description"
   ]
  },
  {
   "cell_type": "code",
   "execution_count": 99,
   "metadata": {
    "collapsed": false
   },
   "outputs": [
    {
     "data": {
      "text/plain": [
       "array(['WORLD', 'More developed regions', 'Less developed regions',\n",
       "       'Least developed countries',\n",
       "       'Less developed regions, excluding least developed countries',\n",
       "       'Less developed regions, excluding China', 'High-income countries',\n",
       "       'Middle-income countries', 'Upper-middle-income countries',\n",
       "       'Lower-middle-income countries', 'Low-income countries',\n",
       "       'Sub-Saharan Africa', 'AFRICA', 'Eastern Africa', 'Burundi',\n",
       "       'Comoros', 'Djibouti', 'Eritrea', 'Ethiopia', 'Kenya', 'Madagascar',\n",
       "       'Malawi', 'Mauritius', 'Mayotte', 'Mozambique', 'R\\xc3\\xa9union',\n",
       "       'Rwanda', 'Seychelles', 'Somalia', 'South Sudan', 'Uganda',\n",
       "       'United Republic of Tanzania', 'Zambia', 'Zimbabwe',\n",
       "       'Middle Africa', 'Angola', 'Cameroon', 'Central African Republic',\n",
       "       'Chad', 'Congo', 'Democratic Republic of the Congo',\n",
       "       'Equatorial Guinea', 'Gabon', 'Sao Tome and Principe',\n",
       "       'Northern Africa', 'Algeria', 'Egypt', 'Libya', 'Morocco', 'Sudan',\n",
       "       'Tunisia', 'Western Sahara', 'Southern Africa', 'Botswana',\n",
       "       'Lesotho', 'Namibia', 'South Africa', 'Swaziland', 'Western Africa',\n",
       "       'Benin', 'Burkina Faso', 'Cabo Verde', \"C\\xc3\\xb4te d'Ivoire\",\n",
       "       'Gambia', 'Ghana', 'Guinea', 'Guinea-Bissau', 'Liberia', 'Mali',\n",
       "       'Mauritania', 'Niger', 'Nigeria', 'Saint Helena', 'Senegal',\n",
       "       'Sierra Leone', 'Togo', 'ASIA', 'Eastern Asia', 'China',\n",
       "       'China, Hong Kong SAR', 'China, Macao SAR',\n",
       "       \"Dem. People's Republic of Korea\", 'Japan', 'Mongolia',\n",
       "       'Republic of Korea', 'Other non-specified areas',\n",
       "       'South-Central Asia', 'Central Asia', 'Kazakhstan', 'Kyrgyzstan',\n",
       "       'Tajikistan', 'Turkmenistan', 'Uzbekistan', 'Southern Asia',\n",
       "       'Afghanistan', 'Bangladesh', 'Bhutan', 'India',\n",
       "       'Iran (Islamic Republic of)', 'Maldives', 'Nepal', 'Pakistan',\n",
       "       'Sri Lanka', 'South-Eastern Asia', 'Brunei Darussalam', 'Cambodia',\n",
       "       'Indonesia', \"Lao People's Democratic Republic\", 'Malaysia',\n",
       "       'Myanmar', 'Philippines', 'Singapore', 'Thailand', 'Timor-Leste',\n",
       "       'Viet Nam', 'Western Asia', 'Armenia', 'Azerbaijan', 'Bahrain',\n",
       "       'Cyprus', 'Georgia', 'Iraq', 'Israel', 'Jordan', 'Kuwait',\n",
       "       'Lebanon', 'Oman', 'Qatar', 'Saudi Arabia', 'State of Palestine',\n",
       "       'Syrian Arab Republic', 'Turkey', 'United Arab Emirates', 'Yemen',\n",
       "       'EUROPE', 'Eastern Europe', 'Belarus', 'Bulgaria', 'Czech Republic',\n",
       "       'Hungary', 'Poland', 'Republic of Moldova', 'Romania',\n",
       "       'Russian Federation', 'Slovakia', 'Ukraine', 'Northern Europe',\n",
       "       'Channel Islands', 'Denmark', 'Estonia', 'Faeroe Islands',\n",
       "       'Finland', 'Iceland', 'Ireland', 'Isle of Man', 'Latvia',\n",
       "       'Lithuania', 'Norway', 'Sweden', 'United Kingdom',\n",
       "       'Southern Europe', 'Albania', 'Andorra', 'Bosnia and Herzegovina',\n",
       "       'Croatia', 'Gibraltar', 'Greece', 'Holy See', 'Italy', 'Malta',\n",
       "       'Montenegro', 'Portugal', 'San Marino', 'Serbia', 'Slovenia',\n",
       "       'Spain', 'TFYR Macedonia', 'Western Europe', 'Austria', 'Belgium',\n",
       "       'France', 'Germany', 'Liechtenstein', 'Luxembourg', 'Monaco',\n",
       "       'Netherlands', 'Switzerland', 'LATIN AMERICA AND THE CARIBBEAN',\n",
       "       'Caribbean', 'Anguilla', 'Antigua and Barbuda', 'Aruba', 'Bahamas',\n",
       "       'Barbados', 'British Virgin Islands', 'Caribbean Netherlands',\n",
       "       'Cayman Islands', 'Cuba', 'Cura\\xc3\\xa7ao', 'Dominica',\n",
       "       'Dominican Republic', 'Grenada', 'Guadeloupe', 'Haiti', 'Jamaica',\n",
       "       'Martinique', 'Montserrat', 'Puerto Rico', 'Saint Kitts and Nevis',\n",
       "       'Saint Lucia', 'Saint Vincent and the Grenadines',\n",
       "       'Sint Maarten (Dutch part)', 'Trinidad and Tobago',\n",
       "       'Turks and Caicos Islands', 'United States Virgin Islands',\n",
       "       'Central America', 'Belize', 'Costa Rica', 'El Salvador',\n",
       "       'Guatemala', 'Honduras', 'Mexico', 'Nicaragua', 'Panama',\n",
       "       'South America', 'Argentina', 'Bolivia (Plurinational State of)',\n",
       "       'Brazil', 'Chile', 'Colombia', 'Ecuador',\n",
       "       'Falkland Islands (Malvinas)', 'French Guiana', 'Guyana',\n",
       "       'Paraguay', 'Peru', 'Suriname', 'Uruguay',\n",
       "       'Venezuela (Bolivarian Republic of)', 'NORTHERN AMERICA', 'Bermuda',\n",
       "       'Canada', 'Greenland', 'Saint Pierre and Miquelon',\n",
       "       'United States of America', 'OCEANIA', 'Australia/New Zealand',\n",
       "       'Australia', 'New Zealand', 'Melanesia', 'Fiji', 'New Caledonia',\n",
       "       'Papua New Guinea', 'Solomon Islands', 'Vanuatu', 'Micronesia',\n",
       "       'Guam', 'Kiribati', 'Marshall Islands',\n",
       "       'Micronesia (Fed. States of)', 'Nauru', 'Northern Mariana Islands',\n",
       "       'Palau', 'Polynesia', 'American Samoa', 'Cook Islands',\n",
       "       'French Polynesia', 'Niue', 'Samoa', 'Tokelau', 'Tonga', 'Tuvalu',\n",
       "       'Wallis and Futuna Islands'], dtype=object)"
      ]
     },
     "execution_count": 99,
     "metadata": {},
     "output_type": "execute_result"
    }
   ],
   "source": [
    "pop.get_WPP_countries()"
   ]
  },
  {
   "cell_type": "code",
   "execution_count": 100,
   "metadata": {
    "collapsed": false
   },
   "outputs": [
    {
     "data": {
      "text/plain": [
       "['Madagascar',\n",
       " 'Malawi',\n",
       " 'Mauritius',\n",
       " 'Mayotte',\n",
       " 'Mali',\n",
       " 'Mauritania',\n",
       " 'Maldives',\n",
       " 'Malaysia',\n",
       " 'Malta',\n",
       " 'Martinique',\n",
       " 'Marshall Islands']"
      ]
     },
     "execution_count": 100,
     "metadata": {},
     "output_type": "execute_result"
    }
   ],
   "source": [
    "pop.get_WPP_countries('ma')"
   ]
  },
  {
   "cell_type": "code",
   "execution_count": 101,
   "metadata": {
    "collapsed": false
   },
   "outputs": [
    {
     "data": {
      "text/plain": [
       "'Mauritius - Medium variant'"
      ]
     },
     "execution_count": 101,
     "metadata": {},
     "output_type": "execute_result"
    }
   ],
   "source": [
    "pop.get_WPP_projection('Mauritius', 1)"
   ]
  },
  {
   "cell_type": "code",
   "execution_count": 102,
   "metadata": {
    "collapsed": false
   },
   "outputs": [
    {
     "data": {
      "text/html": [
       "<div style=\"max-width:1500px;overflow:auto;\">\n",
       "<table border=\"1\" class=\"dataframe\">\n",
       "  <thead>\n",
       "    <tr style=\"text-align: right;\">\n",
       "      <th></th>\n",
       "      <th>Mauritius</th>\n",
       "    </tr>\n",
       "  </thead>\n",
       "  <tbody>\n",
       "    <tr>\n",
       "      <th>1950</th>\n",
       "      <td>493254</td>\n",
       "    </tr>\n",
       "    <tr>\n",
       "      <th>1951</th>\n",
       "      <td>506431</td>\n",
       "    </tr>\n",
       "    <tr>\n",
       "      <th>1952</th>\n",
       "      <td>521190</td>\n",
       "    </tr>\n",
       "    <tr>\n",
       "      <th>1953</th>\n",
       "      <td>537048</td>\n",
       "    </tr>\n",
       "    <tr>\n",
       "      <th>1954</th>\n",
       "      <td>553623</td>\n",
       "    </tr>\n",
       "  </tbody>\n",
       "</table>\n",
       "</div>"
      ],
      "text/plain": [
       "      Mauritius\n",
       "1950     493254\n",
       "1951     506431\n",
       "1952     521190\n",
       "1953     537048\n",
       "1954     553623"
      ]
     },
     "execution_count": 102,
     "metadata": {},
     "output_type": "execute_result"
    }
   ],
   "source": [
    "pop.projection.head()"
   ]
  },
  {
   "cell_type": "code",
   "execution_count": 103,
   "metadata": {
    "collapsed": false
   },
   "outputs": [
    {
     "data": {
      "text/html": [
       "<div style=\"max-width:1500px;overflow:auto;\">\n",
       "<table border=\"1\" class=\"dataframe\">\n",
       "  <thead>\n",
       "    <tr style=\"text-align: right;\">\n",
       "      <th></th>\n",
       "      <th>Mauritius</th>\n",
       "    </tr>\n",
       "  </thead>\n",
       "  <tbody>\n",
       "    <tr>\n",
       "      <th>2096</th>\n",
       "      <td>972115</td>\n",
       "    </tr>\n",
       "    <tr>\n",
       "      <th>2097</th>\n",
       "      <td>966812</td>\n",
       "    </tr>\n",
       "    <tr>\n",
       "      <th>2098</th>\n",
       "      <td>961666</td>\n",
       "    </tr>\n",
       "    <tr>\n",
       "      <th>2099</th>\n",
       "      <td>956691</td>\n",
       "    </tr>\n",
       "    <tr>\n",
       "      <th>2100</th>\n",
       "      <td>951897</td>\n",
       "    </tr>\n",
       "  </tbody>\n",
       "</table>\n",
       "</div>"
      ],
      "text/plain": [
       "      Mauritius\n",
       "2096     972115\n",
       "2097     966812\n",
       "2098     961666\n",
       "2099     956691\n",
       "2100     951897"
      ]
     },
     "execution_count": 103,
     "metadata": {},
     "output_type": "execute_result"
    }
   ],
   "source": [
    "pop.projection.tail()"
   ]
  },
  {
   "cell_type": "code",
   "execution_count": 104,
   "metadata": {
    "collapsed": false
   },
   "outputs": [
    {
     "data": {
      "text/plain": [
       "'Mauritius'"
      ]
     },
     "execution_count": 104,
     "metadata": {},
     "output_type": "execute_result"
    }
   ],
   "source": [
    "pop.country"
   ]
  },
  {
   "cell_type": "code",
   "execution_count": 105,
   "metadata": {
    "collapsed": false
   },
   "outputs": [
    {
     "data": {
      "text/plain": [
       "'WPP 2015 - Medium variant'"
      ]
     },
     "execution_count": 105,
     "metadata": {},
     "output_type": "execute_result"
    }
   ],
   "source": [
    "pop.description"
   ]
  },
  {
   "cell_type": "code",
   "execution_count": 106,
   "metadata": {
    "collapsed": false
   },
   "outputs": [
    {
     "data": {
      "text/html": [
       "<div style=\"max-width:1500px;overflow:auto;\">\n",
       "<table border=\"1\" class=\"dataframe\">\n",
       "  <thead>\n",
       "    <tr style=\"text-align: right;\">\n",
       "      <th></th>\n",
       "      <th>access_ele</th>\n",
       "    </tr>\n",
       "  </thead>\n",
       "  <tbody>\n",
       "    <tr>\n",
       "      <th>2014</th>\n",
       "      <td>1</td>\n",
       "    </tr>\n",
       "    <tr>\n",
       "      <th>2015</th>\n",
       "      <td>1</td>\n",
       "    </tr>\n",
       "    <tr>\n",
       "      <th>2016</th>\n",
       "      <td>1</td>\n",
       "    </tr>\n",
       "    <tr>\n",
       "      <th>2017</th>\n",
       "      <td>1</td>\n",
       "    </tr>\n",
       "    <tr>\n",
       "      <th>2018</th>\n",
       "      <td>1</td>\n",
       "    </tr>\n",
       "  </tbody>\n",
       "</table>\n",
       "</div>"
      ],
      "text/plain": [
       "      access_ele\n",
       "2014           1\n",
       "2015           1\n",
       "2016           1\n",
       "2017           1\n",
       "2018           1"
      ]
     },
     "execution_count": 106,
     "metadata": {},
     "output_type": "execute_result"
    }
   ],
   "source": [
    "ram = imt.resource_access()\n",
    "ram.period = (2014, 2030)\n",
    "ram.description = 'Mauritius - electricity'\n",
    "ram.RAM = pd.DataFrame({'access_ele': 1.0}, range(ram.period[0], ram.period[1]+1))\n",
    "ram.RAM.head()"
   ]
  },
  {
   "cell_type": "code",
   "execution_count": 107,
   "metadata": {
    "collapsed": false
   },
   "outputs": [
    {
     "data": {
      "text/html": [
       "<div style=\"max-width:1500px;overflow:auto;\">\n",
       "<table border=\"1\" class=\"dataframe\">\n",
       "  <thead>\n",
       "    <tr style=\"text-align: right;\">\n",
       "      <th></th>\n",
       "      <th>access_ele</th>\n",
       "    </tr>\n",
       "  </thead>\n",
       "  <tbody>\n",
       "    <tr>\n",
       "      <th>2026</th>\n",
       "      <td>1</td>\n",
       "    </tr>\n",
       "    <tr>\n",
       "      <th>2027</th>\n",
       "      <td>1</td>\n",
       "    </tr>\n",
       "    <tr>\n",
       "      <th>2028</th>\n",
       "      <td>1</td>\n",
       "    </tr>\n",
       "    <tr>\n",
       "      <th>2029</th>\n",
       "      <td>1</td>\n",
       "    </tr>\n",
       "    <tr>\n",
       "      <th>2030</th>\n",
       "      <td>1</td>\n",
       "    </tr>\n",
       "  </tbody>\n",
       "</table>\n",
       "</div>"
      ],
      "text/plain": [
       "      access_ele\n",
       "2026           1\n",
       "2027           1\n",
       "2028           1\n",
       "2029           1\n",
       "2030           1"
      ]
     },
     "execution_count": 107,
     "metadata": {},
     "output_type": "execute_result"
    }
   ],
   "source": [
    "ram.RAM.tail()"
   ]
  },
  {
   "cell_type": "code",
   "execution_count": 108,
   "metadata": {
    "collapsed": false
   },
   "outputs": [
    {
     "data": {
      "text/html": [
       "<div style=\"max-width:1500px;overflow:auto;\">\n",
       "<table border=\"1\" class=\"dataframe\">\n",
       "  <thead>\n",
       "    <tr style=\"text-align: right;\">\n",
       "      <th></th>\n",
       "      <th>hhkey</th>\n",
       "      <th>income</th>\n",
       "      <th>kwhpc</th>\n",
       "      <th>wgt</th>\n",
       "    </tr>\n",
       "  </thead>\n",
       "  <tbody>\n",
       "    <tr>\n",
       "      <th>0</th>\n",
       "      <td>1</td>\n",
       "      <td>18.709273</td>\n",
       "      <td>51.004929</td>\n",
       "      <td>101.734508</td>\n",
       "    </tr>\n",
       "    <tr>\n",
       "      <th>1</th>\n",
       "      <td>2</td>\n",
       "      <td>13.633015</td>\n",
       "      <td>66.802184</td>\n",
       "      <td>143.742106</td>\n",
       "    </tr>\n",
       "    <tr>\n",
       "      <th>2</th>\n",
       "      <td>3</td>\n",
       "      <td>9.210717</td>\n",
       "      <td>40.396657</td>\n",
       "      <td>114.716599</td>\n",
       "    </tr>\n",
       "    <tr>\n",
       "      <th>3</th>\n",
       "      <td>4</td>\n",
       "      <td>56.405275</td>\n",
       "      <td>116.014927</td>\n",
       "      <td>113.544390</td>\n",
       "    </tr>\n",
       "    <tr>\n",
       "      <th>4</th>\n",
       "      <td>5</td>\n",
       "      <td>14.247824</td>\n",
       "      <td>38.253699</td>\n",
       "      <td>150.369788</td>\n",
       "    </tr>\n",
       "  </tbody>\n",
       "</table>\n",
       "</div>"
      ],
      "text/plain": [
       "   hhkey     income       kwhpc         wgt\n",
       "0      1  18.709273   51.004929  101.734508\n",
       "1      2  13.633015   66.802184  143.742106\n",
       "2      3   9.210717   40.396657  114.716599\n",
       "3      4  56.405275  116.014927  113.544390\n",
       "4      5  14.247824   38.253699  150.369788"
      ]
     },
     "execution_count": 108,
     "metadata": {},
     "output_type": "execute_result"
    }
   ],
   "source": [
    "FILE = 'data/example_aztlan_seed.tab.txt'\n",
    "data = pd.read_csv(FILE, sep='\\t', index_col=False, na_values='')\n",
    "ms = imt.microsim(data)\n",
    "ms.dataset.head()"
   ]
  },
  {
   "cell_type": "code",
   "execution_count": 109,
   "metadata": {
    "collapsed": false
   },
   "outputs": [
    {
     "data": {
      "text/plain": [
       "['hhkey', 'income', 'kwhpc', 'wgt']"
      ]
     },
     "execution_count": 109,
     "metadata": {},
     "output_type": "execute_result"
    }
   ],
   "source": [
    "ms.seedvars"
   ]
  },
  {
   "cell_type": "code",
   "execution_count": 110,
   "metadata": {
    "collapsed": false
   },
   "outputs": [
    {
     "data": {
      "text/html": [
       "<div style=\"max-width:1500px;overflow:auto;\">\n",
       "<table border=\"1\" class=\"dataframe\">\n",
       "  <thead>\n",
       "    <tr style=\"text-align: right;\">\n",
       "      <th></th>\n",
       "      <th>hhkey</th>\n",
       "      <th>income</th>\n",
       "      <th>kwhpc</th>\n",
       "      <th>wgt</th>\n",
       "      <th>newvar</th>\n",
       "    </tr>\n",
       "  </thead>\n",
       "  <tbody>\n",
       "    <tr>\n",
       "      <th>0</th>\n",
       "      <td>1</td>\n",
       "      <td>18.709273</td>\n",
       "      <td>51.004929</td>\n",
       "      <td>101.734508</td>\n",
       "      <td>1.5</td>\n",
       "    </tr>\n",
       "    <tr>\n",
       "      <th>1</th>\n",
       "      <td>2</td>\n",
       "      <td>13.633015</td>\n",
       "      <td>66.802184</td>\n",
       "      <td>143.742106</td>\n",
       "      <td>1.5</td>\n",
       "    </tr>\n",
       "    <tr>\n",
       "      <th>2</th>\n",
       "      <td>3</td>\n",
       "      <td>9.210717</td>\n",
       "      <td>40.396657</td>\n",
       "      <td>114.716599</td>\n",
       "      <td>1.5</td>\n",
       "    </tr>\n",
       "    <tr>\n",
       "      <th>3</th>\n",
       "      <td>4</td>\n",
       "      <td>56.405275</td>\n",
       "      <td>116.014927</td>\n",
       "      <td>113.544390</td>\n",
       "      <td>1.5</td>\n",
       "    </tr>\n",
       "    <tr>\n",
       "      <th>4</th>\n",
       "      <td>5</td>\n",
       "      <td>14.247824</td>\n",
       "      <td>38.253699</td>\n",
       "      <td>150.369788</td>\n",
       "      <td>1.5</td>\n",
       "    </tr>\n",
       "  </tbody>\n",
       "</table>\n",
       "</div>"
      ],
      "text/plain": [
       "   hhkey     income       kwhpc         wgt  newvar\n",
       "0      1  18.709273   51.004929  101.734508     1.5\n",
       "1      2  13.633015   66.802184  143.742106     1.5\n",
       "2      3   9.210717   40.396657  114.716599     1.5\n",
       "3      4  56.405275  116.014927  113.544390     1.5\n",
       "4      5  14.247824   38.253699  150.369788     1.5"
      ]
     },
     "execution_count": 110,
     "metadata": {},
     "output_type": "execute_result"
    }
   ],
   "source": [
    "ms.dataset['newvar'] = 1.5\n",
    "ms.dataset.head()"
   ]
  },
  {
   "cell_type": "code",
   "execution_count": 111,
   "metadata": {
    "collapsed": false
   },
   "outputs": [
    {
     "data": {
      "text/html": [
       "<div style=\"max-width:1500px;overflow:auto;\">\n",
       "<table border=\"1\" class=\"dataframe\">\n",
       "  <thead>\n",
       "    <tr style=\"text-align: right;\">\n",
       "      <th></th>\n",
       "      <th>hhkey</th>\n",
       "      <th>income</th>\n",
       "      <th>kwhpc</th>\n",
       "      <th>wgt</th>\n",
       "    </tr>\n",
       "  </thead>\n",
       "  <tbody>\n",
       "    <tr>\n",
       "      <th>0</th>\n",
       "      <td>1</td>\n",
       "      <td>18.709273</td>\n",
       "      <td>51.004929</td>\n",
       "      <td>101.734508</td>\n",
       "    </tr>\n",
       "    <tr>\n",
       "      <th>1</th>\n",
       "      <td>2</td>\n",
       "      <td>13.633015</td>\n",
       "      <td>66.802184</td>\n",
       "      <td>143.742106</td>\n",
       "    </tr>\n",
       "    <tr>\n",
       "      <th>2</th>\n",
       "      <td>3</td>\n",
       "      <td>9.210717</td>\n",
       "      <td>40.396657</td>\n",
       "      <td>114.716599</td>\n",
       "    </tr>\n",
       "    <tr>\n",
       "      <th>3</th>\n",
       "      <td>4</td>\n",
       "      <td>56.405275</td>\n",
       "      <td>116.014927</td>\n",
       "      <td>113.544390</td>\n",
       "    </tr>\n",
       "    <tr>\n",
       "      <th>4</th>\n",
       "      <td>5</td>\n",
       "      <td>14.247824</td>\n",
       "      <td>38.253699</td>\n",
       "      <td>150.369788</td>\n",
       "    </tr>\n",
       "  </tbody>\n",
       "</table>\n",
       "</div>"
      ],
      "text/plain": [
       "   hhkey     income       kwhpc         wgt\n",
       "0      1  18.709273   51.004929  101.734508\n",
       "1      2  13.633015   66.802184  143.742106\n",
       "2      3   9.210717   40.396657  114.716599\n",
       "3      4  56.405275  116.014927  113.544390\n",
       "4      5  14.247824   38.253699  150.369788"
      ]
     },
     "execution_count": 111,
     "metadata": {},
     "output_type": "execute_result"
    }
   ],
   "source": [
    "ms.__reset__()\n",
    "ms.dataset.head()"
   ]
  },
  {
   "cell_type": "code",
   "execution_count": 112,
   "metadata": {
    "collapsed": false
   },
   "outputs": [
    {
     "name": "stdout",
     "output_type": "stream",
     "text": [
      "\n",
      "Elasticity calculator started - please be patient\n",
      "Replicating observations, 11280 to 464778...\n",
      "Fitting models...\n",
      "Quantile\telasticity\tse_elast\tintercept\tse_intercept\n",
      "0.1\t0.398640\t0.001902\t2.070578\t0.004844\n",
      "0.2\t0.393800\t0.001311\t2.292835\t0.003348\n",
      "0.3\t0.394674\t0.001207\t2.436981\t0.003087\n",
      "0.4\t0.387523\t0.001195\t2.585914\t0.003060\n",
      "0.5\t0.375112\t0.001243\t2.736595\t0.003186\n",
      "0.6\t0.368819\t0.001130\t2.872029\t0.002895\n",
      "0.7\t0.369336\t0.001127\t3.001140\t0.002886\n",
      "0.8\t0.379222\t0.001295\t3.122457\t0.003309\n",
      "0.9\t0.394856\t0.001866\t3.321080\t0.004746\n"
     ]
    }
   ],
   "source": [
    "ms.elast_calc('hhkey', 'kwhpc', 'income', 'wgt', stub='kwhpc', parts=10)"
   ]
  },
  {
   "cell_type": "code",
   "execution_count": 113,
   "metadata": {
    "collapsed": false
   },
   "outputs": [
    {
     "data": {
      "text/html": [
       "<div style=\"max-width:1500px;overflow:auto;\">\n",
       "<table border=\"1\" class=\"dataframe\">\n",
       "  <thead>\n",
       "    <tr style=\"text-align: right;\">\n",
       "      <th></th>\n",
       "      <th>hhkey</th>\n",
       "      <th>income</th>\n",
       "      <th>kwhpc</th>\n",
       "      <th>wgt</th>\n",
       "      <th>quantkwhpc</th>\n",
       "      <th>elastkwhpc</th>\n",
       "    </tr>\n",
       "  </thead>\n",
       "  <tbody>\n",
       "    <tr>\n",
       "      <th>0</th>\n",
       "      <td>1</td>\n",
       "      <td>18.709273</td>\n",
       "      <td>51.004929</td>\n",
       "      <td>101.734508</td>\n",
       "      <td>0.6</td>\n",
       "      <td>0.368819</td>\n",
       "    </tr>\n",
       "    <tr>\n",
       "      <th>1</th>\n",
       "      <td>2</td>\n",
       "      <td>13.633015</td>\n",
       "      <td>66.802184</td>\n",
       "      <td>143.742106</td>\n",
       "      <td>0.8</td>\n",
       "      <td>0.379222</td>\n",
       "    </tr>\n",
       "    <tr>\n",
       "      <th>2</th>\n",
       "      <td>3</td>\n",
       "      <td>9.210717</td>\n",
       "      <td>40.396657</td>\n",
       "      <td>114.716599</td>\n",
       "      <td>0.5</td>\n",
       "      <td>0.375112</td>\n",
       "    </tr>\n",
       "    <tr>\n",
       "      <th>3</th>\n",
       "      <td>4</td>\n",
       "      <td>56.405275</td>\n",
       "      <td>116.014927</td>\n",
       "      <td>113.544390</td>\n",
       "      <td>0.9</td>\n",
       "      <td>0.394856</td>\n",
       "    </tr>\n",
       "    <tr>\n",
       "      <th>4</th>\n",
       "      <td>5</td>\n",
       "      <td>14.247824</td>\n",
       "      <td>38.253699</td>\n",
       "      <td>150.369788</td>\n",
       "      <td>0.4</td>\n",
       "      <td>0.387523</td>\n",
       "    </tr>\n",
       "  </tbody>\n",
       "</table>\n",
       "</div>"
      ],
      "text/plain": [
       "   hhkey     income       kwhpc         wgt  quantkwhpc  elastkwhpc\n",
       "0      1  18.709273   51.004929  101.734508         0.6    0.368819\n",
       "1      2  13.633015   66.802184  143.742106         0.8    0.379222\n",
       "2      3   9.210717   40.396657  114.716599         0.5    0.375112\n",
       "3      4  56.405275  116.014927  113.544390         0.9    0.394856\n",
       "4      5  14.247824   38.253699  150.369788         0.4    0.387523"
      ]
     },
     "execution_count": 113,
     "metadata": {},
     "output_type": "execute_result"
    }
   ],
   "source": [
    "ms.dataset.head()"
   ]
  },
  {
   "cell_type": "code",
   "execution_count": 114,
   "metadata": {
    "collapsed": false
   },
   "outputs": [],
   "source": [
    "ms.dataset.to_csv('newfile.txt', '\\t')"
   ]
  },
  {
   "cell_type": "code",
   "execution_count": 115,
   "metadata": {
    "collapsed": false
   },
   "outputs": [
    {
     "data": {
      "text/html": [
       "<div style=\"max-width:1500px;overflow:auto;\">\n",
       "<table border=\"1\" class=\"dataframe\">\n",
       "  <thead>\n",
       "    <tr style=\"text-align: right;\">\n",
       "      <th></th>\n",
       "      <th>Unnamed: 0</th>\n",
       "      <th>hhkey</th>\n",
       "      <th>income</th>\n",
       "      <th>kwhpc</th>\n",
       "      <th>wgt</th>\n",
       "      <th>quantkwhpc</th>\n",
       "      <th>elastkwhpc</th>\n",
       "    </tr>\n",
       "  </thead>\n",
       "  <tbody>\n",
       "    <tr>\n",
       "      <th>0</th>\n",
       "      <td>0</td>\n",
       "      <td>1</td>\n",
       "      <td>15.466055</td>\n",
       "      <td>48.970023</td>\n",
       "      <td>77.499222</td>\n",
       "      <td>0.723647</td>\n",
       "      <td>0.381338</td>\n",
       "    </tr>\n",
       "    <tr>\n",
       "      <th>1</th>\n",
       "      <td>1</td>\n",
       "      <td>2</td>\n",
       "      <td>11.269757</td>\n",
       "      <td>64.137027</td>\n",
       "      <td>109.499733</td>\n",
       "      <td>0.872327</td>\n",
       "      <td>0.406476</td>\n",
       "    </tr>\n",
       "    <tr>\n",
       "      <th>2</th>\n",
       "      <td>2</td>\n",
       "      <td>3</td>\n",
       "      <td>7.614056</td>\n",
       "      <td>38.784982</td>\n",
       "      <td>87.388708</td>\n",
       "      <td>0.558331</td>\n",
       "      <td>0.383330</td>\n",
       "    </tr>\n",
       "    <tr>\n",
       "      <th>3</th>\n",
       "      <td>3</td>\n",
       "      <td>4</td>\n",
       "      <td>46.627525</td>\n",
       "      <td>111.386365</td>\n",
       "      <td>86.495744</td>\n",
       "      <td>1.008531</td>\n",
       "      <td>0.439620</td>\n",
       "    </tr>\n",
       "    <tr>\n",
       "      <th>4</th>\n",
       "      <td>4</td>\n",
       "      <td>5</td>\n",
       "      <td>11.777990</td>\n",
       "      <td>36.727520</td>\n",
       "      <td>114.548562</td>\n",
       "      <td>0.513623</td>\n",
       "      <td>0.386870</td>\n",
       "    </tr>\n",
       "  </tbody>\n",
       "</table>\n",
       "</div>"
      ],
      "text/plain": [
       "   Unnamed: 0  hhkey     income       kwhpc         wgt  quantkwhpc  \\\n",
       "0           0      1  15.466055   48.970023   77.499222    0.723647   \n",
       "1           1      2  11.269757   64.137027  109.499733    0.872327   \n",
       "2           2      3   7.614056   38.784982   87.388708    0.558331   \n",
       "3           3      4  46.627525  111.386365   86.495744    1.008531   \n",
       "4           4      5  11.777990   36.727520  114.548562    0.513623   \n",
       "\n",
       "   elastkwhpc  \n",
       "0    0.381338  \n",
       "1    0.406476  \n",
       "2    0.383330  \n",
       "3    0.439620  \n",
       "4    0.386870  "
      ]
     },
     "execution_count": 115,
     "metadata": {},
     "output_type": "execute_result"
    }
   ],
   "source": [
    "FILE = 'data/example_aztlan_w_elast.tab.txt'\n",
    "data = pd.read_csv(FILE, sep='\\t', index_col=False, na_values='')\n",
    "ms = imt.microsim(data)\n",
    "ms.dataset.head()"
   ]
  },
  {
   "cell_type": "code",
   "execution_count": 116,
   "metadata": {
    "collapsed": false
   },
   "outputs": [
    {
     "data": {
      "text/plain": [
       "count    11280.000000\n",
       "mean         0.401532\n",
       "std          0.015938\n",
       "min          0.378095\n",
       "25%          0.387018\n",
       "50%          0.403671\n",
       "75%          0.407931\n",
       "max          0.470317\n",
       "Name: elastkwhpc, dtype: float64"
      ]
     },
     "execution_count": 116,
     "metadata": {},
     "output_type": "execute_result"
    }
   ],
   "source": [
    "ms.dataset['elastkwhpc'].describe()"
   ]
  },
  {
   "cell_type": "code",
   "execution_count": 117,
   "metadata": {
    "collapsed": false
   },
   "outputs": [
    {
     "data": {
      "image/png": "[encoded data removed]",
      "text/plain": [
       "<matplotlib.figure.Figure at 0x1090c7890>"
      ]
     },
     "metadata": {},
     "output_type": "display_data"
    }
   ],
   "source": [
    "plt.figure(figsize=(12,6))\n",
    "ms.visualize(ms.dataset, 'income', 'elastkwhpc')"
   ]
  },
  {
   "cell_type": "code",
   "execution_count": 118,
   "metadata": {
    "collapsed": false
   },
   "outputs": [
    {
     "data": {
      "text/plain": [
       "78       99\n",
       "1547    100\n",
       "6239    100\n",
       "6334    100\n",
       "1624    101\n",
       "Name: cem, dtype: int64"
      ]
     },
     "execution_count": 118,
     "metadata": {},
     "output_type": "execute_result"
    }
   ],
   "source": [
    "msdts = ms.dataset.sort('income')\n",
    "msdts['cem'] = (((msdts.income * msdts.wgt).cumsum() / (msdts.income *\n",
    "msdts.wgt).sum()) * 100).astype(int) + 1\n",
    "msdts.cem.tail()"
   ]
  },
  {
   "cell_type": "code",
   "execution_count": 119,
   "metadata": {
    "collapsed": false
   },
   "outputs": [
    {
     "data": {
      "text/html": [
       "<div style=\"max-width:1500px;overflow:auto;\">\n",
       "<table border=\"1\" class=\"dataframe\">\n",
       "  <thead>\n",
       "    <tr style=\"text-align: right;\">\n",
       "      <th></th>\n",
       "      <th>hhkey</th>\n",
       "      <th>income</th>\n",
       "      <th>cem</th>\n",
       "    </tr>\n",
       "  </thead>\n",
       "  <tbody>\n",
       "    <tr>\n",
       "      <th>11275</th>\n",
       "      <td>11276</td>\n",
       "      <td>6.549277</td>\n",
       "      <td>11</td>\n",
       "    </tr>\n",
       "    <tr>\n",
       "      <th>11276</th>\n",
       "      <td>11277</td>\n",
       "      <td>6.071800</td>\n",
       "      <td>10</td>\n",
       "    </tr>\n",
       "    <tr>\n",
       "      <th>11277</th>\n",
       "      <td>11278</td>\n",
       "      <td>7.342415</td>\n",
       "      <td>15</td>\n",
       "    </tr>\n",
       "    <tr>\n",
       "      <th>11278</th>\n",
       "      <td>11279</td>\n",
       "      <td>1.445418</td>\n",
       "      <td>1</td>\n",
       "    </tr>\n",
       "    <tr>\n",
       "      <th>11279</th>\n",
       "      <td>11280</td>\n",
       "      <td>22.524087</td>\n",
       "      <td>60</td>\n",
       "    </tr>\n",
       "  </tbody>\n",
       "</table>\n",
       "</div>"
      ],
      "text/plain": [
       "       hhkey     income  cem\n",
       "11275  11276   6.549277   11\n",
       "11276  11277   6.071800   10\n",
       "11277  11278   7.342415   15\n",
       "11278  11279   1.445418    1\n",
       "11279  11280  22.524087   60"
      ]
     },
     "execution_count": 119,
     "metadata": {},
     "output_type": "execute_result"
    }
   ],
   "source": [
    "msdts['cem'][-1:] = 100\n",
    "ms.dataset['cem'] = msdts['cem']\n",
    "ms.dataset[['hhkey', 'income', 'cem']].tail()"
   ]
  },
  {
   "cell_type": "code",
   "execution_count": 120,
   "metadata": {
    "collapsed": false
   },
   "outputs": [
    {
     "data": {
      "text/html": [
       "<div style=\"max-width:1500px;overflow:auto;\">\n",
       "<table border=\"1\" class=\"dataframe\">\n",
       "  <thead>\n",
       "    <tr style=\"text-align: right;\">\n",
       "      <th></th>\n",
       "      <th>cem</th>\n",
       "      <th>income</th>\n",
       "      <th>meanelast</th>\n",
       "      <th>meankwhpc</th>\n",
       "    </tr>\n",
       "    <tr>\n",
       "      <th>cem</th>\n",
       "      <th></th>\n",
       "      <th></th>\n",
       "      <th></th>\n",
       "      <th></th>\n",
       "    </tr>\n",
       "  </thead>\n",
       "  <tbody>\n",
       "    <tr>\n",
       "      <th>96</th>\n",
       "      <td>96</td>\n",
       "      <td>86.738293</td>\n",
       "      <td>0.404155</td>\n",
       "      <td>161.651200</td>\n",
       "    </tr>\n",
       "    <tr>\n",
       "      <th>97</th>\n",
       "      <td>97</td>\n",
       "      <td>97.233829</td>\n",
       "      <td>0.421202</td>\n",
       "      <td>170.206306</td>\n",
       "    </tr>\n",
       "    <tr>\n",
       "      <th>98</th>\n",
       "      <td>98</td>\n",
       "      <td>113.328776</td>\n",
       "      <td>0.423841</td>\n",
       "      <td>174.856580</td>\n",
       "    </tr>\n",
       "    <tr>\n",
       "      <th>99</th>\n",
       "      <td>99</td>\n",
       "      <td>155.644612</td>\n",
       "      <td>0.413995</td>\n",
       "      <td>226.627580</td>\n",
       "    </tr>\n",
       "    <tr>\n",
       "      <th>100</th>\n",
       "      <td>100</td>\n",
       "      <td>324.308197</td>\n",
       "      <td>0.398940</td>\n",
       "      <td>291.313339</td>\n",
       "    </tr>\n",
       "  </tbody>\n",
       "</table>\n",
       "</div>"
      ],
      "text/plain": [
       "     cem      income  meanelast   meankwhpc\n",
       "cem                                        \n",
       "96    96   86.738293   0.404155  161.651200\n",
       "97    97   97.233829   0.421202  170.206306\n",
       "98    98  113.328776   0.423841  174.856580\n",
       "99    99  155.644612   0.413995  226.627580\n",
       "100  100  324.308197   0.398940  291.313339"
      ]
     },
     "execution_count": 120,
     "metadata": {},
     "output_type": "execute_result"
    }
   ],
   "source": [
    "aggr = ms.dataset.groupby('cem')\n",
    "newdf = pd.DataFrame({'cem': aggr['cem'].first(), 'income': aggr['income'].mean(),\n",
    "'meankwhpc': aggr['kwhpc'].mean(), 'meanelast': aggr['elastkwhpc'].mean()})\n",
    "newdf.tail()"
   ]
  },
  {
   "cell_type": "code",
   "execution_count": 121,
   "metadata": {
    "collapsed": false
   },
   "outputs": [
    {
     "data": {
      "image/png": "[encoded data removed]",
      "text/plain": [
       "<matplotlib.figure.Figure at 0x108557090>"
      ]
     },
     "metadata": {},
     "output_type": "display_data"
    }
   ],
   "source": [
    "plt.figure(figsize=(14,6))\n",
    "ms.visualize(newdf, 'cem', subplotcols=3)"
   ]
  },
  {
   "cell_type": "code",
   "execution_count": 122,
   "metadata": {
    "collapsed": false
   },
   "outputs": [
    {
     "data": {
      "text/html": [
       "<div style=\"max-width:1500px;overflow:auto;\">\n",
       "<table border=\"1\" class=\"dataframe\">\n",
       "  <thead>\n",
       "    <tr style=\"text-align: right;\">\n",
       "      <th></th>\n",
       "      <th>key</th>\n",
       "    </tr>\n",
       "  </thead>\n",
       "  <tbody>\n",
       "    <tr>\n",
       "      <th>0</th>\n",
       "      <td>0</td>\n",
       "    </tr>\n",
       "    <tr>\n",
       "      <th>1</th>\n",
       "      <td>1</td>\n",
       "    </tr>\n",
       "    <tr>\n",
       "      <th>2</th>\n",
       "      <td>2</td>\n",
       "    </tr>\n",
       "    <tr>\n",
       "      <th>3</th>\n",
       "      <td>3</td>\n",
       "    </tr>\n",
       "    <tr>\n",
       "      <th>4</th>\n",
       "      <td>4</td>\n",
       "    </tr>\n",
       "  </tbody>\n",
       "</table>\n",
       "</div>"
      ],
      "text/plain": [
       "   key\n",
       "0    0\n",
       "1    1\n",
       "2    2\n",
       "3    3\n",
       "4    4"
      ]
     },
     "execution_count": 122,
     "metadata": {},
     "output_type": "execute_result"
    }
   ],
   "source": [
    "grwt = ms.growth(1000)\n",
    "grwt.dataset.head()"
   ]
  },
  {
   "cell_type": "code",
   "execution_count": 123,
   "metadata": {
    "collapsed": false
   },
   "outputs": [
    {
     "data": {
      "text/html": [
       "<div style=\"max-width:1500px;overflow:auto;\">\n",
       "<table border=\"1\" class=\"dataframe\">\n",
       "  <thead>\n",
       "    <tr style=\"text-align: right;\">\n",
       "      <th></th>\n",
       "      <th>key</th>\n",
       "      <th>partes</th>\n",
       "      <th>grt20072008</th>\n",
       "      <th>grt20082009</th>\n",
       "      <th>grt20092010</th>\n",
       "      <th>grt20102011</th>\n",
       "      <th>grt20112012</th>\n",
       "      <th>grt20122013</th>\n",
       "      <th>grt20132014</th>\n",
       "    </tr>\n",
       "  </thead>\n",
       "  <tbody>\n",
       "    <tr>\n",
       "      <th>0</th>\n",
       "      <td>0</td>\n",
       "      <td>1</td>\n",
       "      <td>0.000000</td>\n",
       "      <td>0.000000</td>\n",
       "      <td>0.000000</td>\n",
       "      <td>0.000000</td>\n",
       "      <td>0.000000</td>\n",
       "      <td>0.000000</td>\n",
       "      <td>0.000000</td>\n",
       "    </tr>\n",
       "    <tr>\n",
       "      <th>1</th>\n",
       "      <td>1</td>\n",
       "      <td>2</td>\n",
       "      <td>0.292686</td>\n",
       "      <td>0.000000</td>\n",
       "      <td>0.000000</td>\n",
       "      <td>0.000000</td>\n",
       "      <td>0.000000</td>\n",
       "      <td>0.000000</td>\n",
       "      <td>0.000000</td>\n",
       "    </tr>\n",
       "    <tr>\n",
       "      <th>2</th>\n",
       "      <td>2</td>\n",
       "      <td>3</td>\n",
       "      <td>0.102545</td>\n",
       "      <td>-0.616508</td>\n",
       "      <td>0.119817</td>\n",
       "      <td>-0.922023</td>\n",
       "      <td>0.000000</td>\n",
       "      <td>0.000000</td>\n",
       "      <td>-0.723832</td>\n",
       "    </tr>\n",
       "    <tr>\n",
       "      <th>3</th>\n",
       "      <td>3</td>\n",
       "      <td>4</td>\n",
       "      <td>-0.002871</td>\n",
       "      <td>-0.261410</td>\n",
       "      <td>0.001830</td>\n",
       "      <td>-0.095768</td>\n",
       "      <td>-0.315862</td>\n",
       "      <td>0.361479</td>\n",
       "      <td>-0.005498</td>\n",
       "    </tr>\n",
       "    <tr>\n",
       "      <th>4</th>\n",
       "      <td>4</td>\n",
       "      <td>5</td>\n",
       "      <td>-0.067021</td>\n",
       "      <td>-0.156985</td>\n",
       "      <td>-0.045783</td>\n",
       "      <td>-0.002918</td>\n",
       "      <td>-0.117650</td>\n",
       "      <td>-0.107455</td>\n",
       "      <td>0.030462</td>\n",
       "    </tr>\n",
       "  </tbody>\n",
       "</table>\n",
       "</div>"
      ],
      "text/plain": [
       "   key  partes  grt20072008  grt20082009  grt20092010  grt20102011  \\\n",
       "0    0       1     0.000000     0.000000     0.000000     0.000000   \n",
       "1    1       2     0.292686     0.000000     0.000000     0.000000   \n",
       "2    2       3     0.102545    -0.616508     0.119817    -0.922023   \n",
       "3    3       4    -0.002871    -0.261410     0.001830    -0.095768   \n",
       "4    4       5    -0.067021    -0.156985    -0.045783    -0.002918   \n",
       "\n",
       "   grt20112012  grt20122013  grt20132014  \n",
       "0     0.000000     0.000000     0.000000  \n",
       "1     0.000000     0.000000     0.000000  \n",
       "2     0.000000     0.000000    -0.723832  \n",
       "3    -0.315862     0.361479    -0.005498  \n",
       "4    -0.117650    -0.107455     0.030462  "
      ]
     },
     "execution_count": 123,
     "metadata": {},
     "output_type": "execute_result"
    }
   ],
   "source": [
    "FILE = 'data/example_aztlan_growth.tab.txt'\n",
    "grwt.load_csv(FILE, '\\t')\n",
    "grwt.dataset.head()"
   ]
  },
  {
   "cell_type": "code",
   "execution_count": 124,
   "metadata": {
    "collapsed": false
   },
   "outputs": [
    {
     "data": {
      "image/png": "[encoded data removed]",
      "text/plain": [
       "<matplotlib.figure.Figure at 0x1089da1d0>"
      ]
     },
     "metadata": {},
     "output_type": "display_data"
    }
   ],
   "source": [
    "toviz = [col for col in grwt.dataset.columns if 'grt' in col]\n",
    "plt.figure(figsize=(12,12))\n",
    "ms.visualize(grwt.dataset, 'key', toviz)"
   ]
  },
  {
   "cell_type": "code",
   "execution_count": 125,
   "metadata": {
    "collapsed": false
   },
   "outputs": [
    {
     "data": {
      "text/plain": [
       "grt20072008    0.034193\n",
       "grt20082009    0.069243\n",
       "grt20092010    0.032252\n",
       "grt20102011   -0.035453\n",
       "grt20112012    0.019849\n",
       "grt20122013   -0.036412\n",
       "grt20132014   -0.111413\n",
       "dtype: float64"
      ]
     },
     "execution_count": 125,
     "metadata": {},
     "output_type": "execute_result"
    }
   ],
   "source": [
    "grwt.dataset[toviz].mean()"
   ]
  },
  {
   "cell_type": "code",
   "execution_count": 126,
   "metadata": {
    "collapsed": false
   },
   "outputs": [
    {
     "data": {
      "text/plain": [
       "0.0099999999999999672"
      ]
     },
     "execution_count": 126,
     "metadata": {},
     "output_type": "execute_result"
    }
   ],
   "source": [
    "grwt.add_log()\n",
    "grwt.dataset.log.mean()"
   ]
  },
  {
   "cell_type": "code",
   "execution_count": 127,
   "metadata": {
    "collapsed": false
   },
   "outputs": [
    {
     "data": {
      "image/png": "[encoded data removed]",
      "text/plain": [
       "<matplotlib.figure.Figure at 0x1085074d0>"
      ]
     },
     "metadata": {},
     "output_type": "display_data"
    }
   ],
   "source": [
    "plt.figure(figsize=(4,3))\n",
    "ms.visualize(grwt.dataset, 'key', 'log')"
   ]
  },
  {
   "cell_type": "code",
   "execution_count": 128,
   "metadata": {
    "collapsed": false
   },
   "outputs": [
    {
     "data": {
      "image/png": "[encoded data removed]",
      "text/plain": [
       "<matplotlib.figure.Figure at 0x1084f7990>"
      ]
     },
     "metadata": {},
     "output_type": "display_data"
    }
   ],
   "source": [
    "grwt.add_log(average=0.025)\n",
    "plt.figure(figsize=(8,3))\n",
    "ms.visualize(grwt.dataset, 'key', ['log','log1'])"
   ]
  },
  {
   "cell_type": "code",
   "execution_count": 129,
   "metadata": {
    "collapsed": false
   },
   "outputs": [
    {
     "data": {
      "image/png": "[encoded data removed]",
      "text/plain": [
       "<matplotlib.figure.Figure at 0x1083ece10>"
      ]
     },
     "metadata": {},
     "output_type": "display_data"
    }
   ],
   "source": [
    "grwt.add_log(stub='ln', average=0.033)\n",
    "plt.figure(figsize=(8,6))\n",
    "ms.visualize(grwt.dataset, 'key', ['log','log1', 'ln'])"
   ]
  },
  {
   "cell_type": "code",
   "execution_count": 130,
   "metadata": {
    "collapsed": false
   },
   "outputs": [
    {
     "data": {
      "text/plain": [
       "ln         0.033\n",
       "flipped    0.033\n",
       "dtype: float64"
      ]
     },
     "execution_count": 130,
     "metadata": {},
     "output_type": "execute_result"
    }
   ],
   "source": [
    "grwt.add_log(stub='flipped', average=0.033, flip=True)\n",
    "grwt.dataset[['ln', 'flipped']].mean()"
   ]
  },
  {
   "cell_type": "code",
   "execution_count": 131,
   "metadata": {
    "collapsed": false
   },
   "outputs": [
    {
     "data": {
      "image/png": "[encoded data removed]",
      "text/plain": [
       "<matplotlib.figure.Figure at 0x103610050>"
      ]
     },
     "metadata": {},
     "output_type": "display_data"
    }
   ],
   "source": [
    "plt.figure(figsize=(8,3))\n",
    "ms.visualize(grwt.dataset, 'key', ['ln', 'flipped'])"
   ]
  },
  {
   "cell_type": "code",
   "execution_count": 132,
   "metadata": {
    "collapsed": false
   },
   "outputs": [
    {
     "data": {
      "text/plain": [
       "ln           0.033\n",
       "flipped      0.033\n",
       "alpha100     0.033\n",
       "alpha1000    0.033\n",
       "dtype: float64"
      ]
     },
     "execution_count": 132,
     "metadata": {},
     "output_type": "execute_result"
    }
   ],
   "source": [
    "grwt.add_log(stub='alpha100', average=0.033, flip=True, alpha=100)\n",
    "grwt.add_log(stub='alpha1000', average=0.033, flip=True, alpha=1000)\n",
    "grwt.dataset[['ln', 'flipped', 'alpha100', 'alpha1000']].mean()"
   ]
  },
  {
   "cell_type": "code",
   "execution_count": 133,
   "metadata": {
    "collapsed": false
   },
   "outputs": [
    {
     "data": {
      "image/png": "[encoded data removed]",
      "text/plain": [
       "<matplotlib.figure.Figure at 0x1085571d0>"
      ]
     },
     "metadata": {},
     "output_type": "display_data"
    }
   ],
   "source": [
    "plt.figure(figsize=(8,6))\n",
    "ms.visualize(grwt.dataset, 'key', ['ln', 'flipped', 'alpha100', 'alpha1000'])"
   ]
  },
  {
   "cell_type": "code",
   "execution_count": 134,
   "metadata": {
    "collapsed": false
   },
   "outputs": [
    {
     "data": {
      "text/plain": [
       "log1    0.025\n",
       "log2    0.015\n",
       "dtype: float64"
      ]
     },
     "execution_count": 134,
     "metadata": {},
     "output_type": "execute_result"
    }
   ],
   "source": [
    "grwt.add_log(average=0.025, shift=-0.01)\n",
    "grwt.dataset[['log1', 'log2']].mean()"
   ]
  },
  {
   "cell_type": "code",
   "execution_count": 137,
   "metadata": {
    "collapsed": false
   },
   "outputs": [
    {
     "data": {
      "image/png": "[encoded data removed]",
      "text/plain": [
       "<matplotlib.figure.Figure at 0x1089b2590>"
      ]
     },
     "metadata": {},
     "output_type": "display_data"
    }
   ],
   "source": [
    "plt.figure(figsize=(8,3))\n",
    "ms.visualize(grwt.dataset, 'key', ['log1', 'log2'])"
   ]
  },
  {
   "cell_type": "code",
   "execution_count": 138,
   "metadata": {
    "collapsed": false
   },
   "outputs": [
    {
     "name": "stderr",
     "output_type": "stream",
     "text": [
      "ipc_microsim_tool.py:727: FutureWarning: sort is deprecated, use sort_values(inplace=True) for for INPLACE sorting\n",
      "  X.sort(ascending=False)\n"
     ]
    },
    {
     "data": {
      "text/plain": [
       "pwr       0.01\n",
       "pwr1      0.01\n",
       "pwr2      0.05\n",
       "pwr3      0.05\n",
       "pwr4      0.05\n",
       "pshift    0.03\n",
       "dtype: float64"
      ]
     },
     "execution_count": 138,
     "metadata": {},
     "output_type": "execute_result"
    }
   ],
   "source": [
    "grwt.add_power()\n",
    "grwt.add_power(power=3)\n",
    "grwt.add_power(power=3, average=0.05)\n",
    "grwt.add_power(power=3, average=0.05, flip=True)\n",
    "grwt.add_power(power=3, average=0.05, flip=True, alpha=100)\n",
    "grwt.add_power(stub='pshift', power=3, average=0.05, shift=-0.02, flip=True,\n",
    "alpha=100)\n",
    "grwt.dataset[['pwr', 'pwr1', 'pwr2', 'pwr3', 'pwr4', 'pshift']].mean()"
   ]
  },
  {
   "cell_type": "code",
   "execution_count": 140,
   "metadata": {
    "collapsed": false
   },
   "outputs": [
    {
     "data": {
      "image/png": "[encoded data removed]",
      "text/plain": [
       "<matplotlib.figure.Figure at 0x1090c1710>"
      ]
     },
     "metadata": {},
     "output_type": "display_data"
    }
   ],
   "source": [
    "plt.figure(figsize=(12,6))\n",
    "ms.visualize(grwt.dataset, 'key', ['pwr', 'pwr1', 'pwr2', 'pwr3', 'pwr4', 'pshift'],\n",
    "subplotcols=3)"
   ]
  },
  {
   "cell_type": "code",
   "execution_count": 141,
   "metadata": {
    "collapsed": false
   },
   "outputs": [
    {
     "name": "stderr",
     "output_type": "stream",
     "text": [
      "ipc_microsim_tool.py:329: FutureWarning: sort(columns=....) is deprecated, use sort_values(by=.....)\n",
      "  sorted_dt = dt.sort(prvinc)\n",
      "ipc_microsim_tool.py:339: SettingWithCopyWarning: \n",
      "A value is trying to be set on a copy of a slice from a DataFrame\n",
      "\n",
      "See the caveats in the documentation: http://pandas.pydata.org/pandas-docs/stable/indexing.html#indexing-view-versus-copy\n",
      "  == X[3].parts] = X[3].parts - 1\n",
      "ipc_microsim_tool.py:376: FutureWarning: sort(columns=....) is deprecated, use sort_values(by=.....)\n",
      "  self.dataset.sort(key, inplace=True)\n"
     ]
    },
    {
     "data": {
      "text/plain": [
       "'Simulation sim1 results written'"
      ]
     },
     "execution_count": 141,
     "metadata": {},
     "output_type": "execute_result"
    }
   ],
   "source": [
    "simname = 'sim1'\n",
    "period = (2014, 2030)\n",
    "income = ('income', 'inc', 'random', grwt)\n",
    "resources = [('kwhpc', 'ele', 'elastkwhpc')]\n",
    "weight = 'wgt'\n",
    "key = 'hhkey'\n",
    "ms.simulate(simname, period, income, resources, weight, key)"
   ]
  },
  {
   "cell_type": "code",
   "execution_count": 142,
   "metadata": {
    "collapsed": false
   },
   "outputs": [
    {
     "data": {
      "text/plain": [
       "['Unnamed: 0', 'hhkey', 'income', 'kwhpc', 'wgt', 'quantkwhpc', 'elastkwhpc']"
      ]
     },
     "execution_count": 142,
     "metadata": {},
     "output_type": "execute_result"
    }
   ],
   "source": [
    "ms.seedvars"
   ]
  },
  {
   "cell_type": "code",
   "execution_count": 143,
   "metadata": {
    "collapsed": false
   },
   "outputs": [
    {
     "data": {
      "text/plain": [
       "Index([u'Unnamed: 0', u'hhkey', u'income', u'kwhpc', u'wgt', u'quantkwhpc',\n",
       "       u'elastkwhpc', u'inc2014', u'ele2014', u'inc2015', u'ele2015',\n",
       "       u'inc2016', u'ele2016', u'inc2017', u'ele2017', u'inc2018', u'ele2018',\n",
       "       u'inc2019', u'ele2019', u'inc2020', u'ele2020', u'inc2021', u'ele2021',\n",
       "       u'inc2022', u'ele2022', u'inc2023', u'ele2023', u'inc2024', u'ele2024',\n",
       "       u'inc2025', u'ele2025', u'inc2026', u'ele2026', u'inc2027', u'ele2027',\n",
       "       u'inc2028', u'ele2028', u'inc2029', u'ele2029', u'inc2030', u'ele2030'],\n",
       "      dtype='object')"
      ]
     },
     "execution_count": 143,
     "metadata": {},
     "output_type": "execute_result"
    }
   ],
   "source": [
    "ms.dataset.columns"
   ]
  },
  {
   "cell_type": "code",
   "execution_count": 144,
   "metadata": {
    "collapsed": false
   },
   "outputs": [
    {
     "data": {
      "text/plain": [
       "['sim1']"
      ]
     },
     "execution_count": 144,
     "metadata": {},
     "output_type": "execute_result"
    }
   ],
   "source": [
    "ms.results.keys()"
   ]
  },
  {
   "cell_type": "code",
   "execution_count": 145,
   "metadata": {
    "collapsed": false
   },
   "outputs": [
    {
     "data": {
      "text/plain": [
       "['name', 'reselast0', 'period', 'dataset', 'growth', 'income', 'resvar0']"
      ]
     },
     "execution_count": 145,
     "metadata": {},
     "output_type": "execute_result"
    }
   ],
   "source": [
    "ms.results['sim1'].keys()"
   ]
  },
  {
   "cell_type": "code",
   "execution_count": 146,
   "metadata": {
    "collapsed": false
   },
   "outputs": [
    {
     "data": {
      "text/html": [
       "<div style=\"max-width:1500px;overflow:auto;\">\n",
       "<table border=\"1\" class=\"dataframe\">\n",
       "  <thead>\n",
       "    <tr style=\"text-align: right;\">\n",
       "      <th></th>\n",
       "      <th>year</th>\n",
       "      <th>grwtpatt</th>\n",
       "      <th>mean_inc</th>\n",
       "      <th>mean_ele</th>\n",
       "    </tr>\n",
       "  </thead>\n",
       "  <tbody>\n",
       "    <tr>\n",
       "      <th>2014</th>\n",
       "      <td>2014</td>\n",
       "      <td>none</td>\n",
       "      <td>13.135075</td>\n",
       "      <td>44.219901</td>\n",
       "    </tr>\n",
       "    <tr>\n",
       "      <th>2015</th>\n",
       "      <td>2015</td>\n",
       "      <td>grt20092010</td>\n",
       "      <td>13.524350</td>\n",
       "      <td>44.799302</td>\n",
       "    </tr>\n",
       "    <tr>\n",
       "      <th>2016</th>\n",
       "      <td>2016</td>\n",
       "      <td>flipped</td>\n",
       "      <td>13.896788</td>\n",
       "      <td>45.358621</td>\n",
       "    </tr>\n",
       "    <tr>\n",
       "      <th>2017</th>\n",
       "      <td>2017</td>\n",
       "      <td>grt20092010</td>\n",
       "      <td>14.327106</td>\n",
       "      <td>45.959655</td>\n",
       "    </tr>\n",
       "    <tr>\n",
       "      <th>2018</th>\n",
       "      <td>2018</td>\n",
       "      <td>pwr1</td>\n",
       "      <td>14.610118</td>\n",
       "      <td>46.211045</td>\n",
       "    </tr>\n",
       "    <tr>\n",
       "      <th>2019</th>\n",
       "      <td>2019</td>\n",
       "      <td>flipped</td>\n",
       "      <td>15.013402</td>\n",
       "      <td>46.788042</td>\n",
       "    </tr>\n",
       "    <tr>\n",
       "      <th>2020</th>\n",
       "      <td>2020</td>\n",
       "      <td>flipped</td>\n",
       "      <td>15.428808</td>\n",
       "      <td>47.372526</td>\n",
       "    </tr>\n",
       "    <tr>\n",
       "      <th>2021</th>\n",
       "      <td>2021</td>\n",
       "      <td>pwr3</td>\n",
       "      <td>15.719131</td>\n",
       "      <td>48.054122</td>\n",
       "    </tr>\n",
       "    <tr>\n",
       "      <th>2022</th>\n",
       "      <td>2022</td>\n",
       "      <td>alpha1000</td>\n",
       "      <td>16.227263</td>\n",
       "      <td>48.686495</td>\n",
       "    </tr>\n",
       "    <tr>\n",
       "      <th>2023</th>\n",
       "      <td>2023</td>\n",
       "      <td>grt20112012</td>\n",
       "      <td>16.458650</td>\n",
       "      <td>49.025149</td>\n",
       "    </tr>\n",
       "    <tr>\n",
       "      <th>2024</th>\n",
       "      <td>2024</td>\n",
       "      <td>pwr1</td>\n",
       "      <td>16.775949</td>\n",
       "      <td>49.289042</td>\n",
       "    </tr>\n",
       "    <tr>\n",
       "      <th>2025</th>\n",
       "      <td>2025</td>\n",
       "      <td>pwr3</td>\n",
       "      <td>17.111418</td>\n",
       "      <td>50.016121</td>\n",
       "    </tr>\n",
       "    <tr>\n",
       "      <th>2026</th>\n",
       "      <td>2026</td>\n",
       "      <td>pshift</td>\n",
       "      <td>17.155383</td>\n",
       "      <td>50.385229</td>\n",
       "    </tr>\n",
       "    <tr>\n",
       "      <th>2027</th>\n",
       "      <td>2027</td>\n",
       "      <td>pwr3</td>\n",
       "      <td>17.546257</td>\n",
       "      <td>51.167857</td>\n",
       "    </tr>\n",
       "    <tr>\n",
       "      <th>2028</th>\n",
       "      <td>2028</td>\n",
       "      <td>grt20122013</td>\n",
       "      <td>17.205158</td>\n",
       "      <td>50.585367</td>\n",
       "    </tr>\n",
       "    <tr>\n",
       "      <th>2029</th>\n",
       "      <td>2029</td>\n",
       "      <td>grt20122013</td>\n",
       "      <td>16.944344</td>\n",
       "      <td>50.027017</td>\n",
       "    </tr>\n",
       "    <tr>\n",
       "      <th>2030</th>\n",
       "      <td>2030</td>\n",
       "      <td>grt20112012</td>\n",
       "      <td>17.196713</td>\n",
       "      <td>50.389418</td>\n",
       "    </tr>\n",
       "  </tbody>\n",
       "</table>\n",
       "</div>"
      ],
      "text/plain": [
       "      year     grwtpatt   mean_inc   mean_ele\n",
       "2014  2014         none  13.135075  44.219901\n",
       "2015  2015  grt20092010  13.524350  44.799302\n",
       "2016  2016      flipped  13.896788  45.358621\n",
       "2017  2017  grt20092010  14.327106  45.959655\n",
       "2018  2018         pwr1  14.610118  46.211045\n",
       "2019  2019      flipped  15.013402  46.788042\n",
       "2020  2020      flipped  15.428808  47.372526\n",
       "2021  2021         pwr3  15.719131  48.054122\n",
       "2022  2022    alpha1000  16.227263  48.686495\n",
       "2023  2023  grt20112012  16.458650  49.025149\n",
       "2024  2024         pwr1  16.775949  49.289042\n",
       "2025  2025         pwr3  17.111418  50.016121\n",
       "2026  2026       pshift  17.155383  50.385229\n",
       "2027  2027         pwr3  17.546257  51.167857\n",
       "2028  2028  grt20122013  17.205158  50.585367\n",
       "2029  2029  grt20122013  16.944344  50.027017\n",
       "2030  2030  grt20112012  17.196713  50.389418"
      ]
     },
     "execution_count": 146,
     "metadata": {},
     "output_type": "execute_result"
    }
   ],
   "source": [
    "ms.results['sim1']['dataset']"
   ]
  },
  {
   "cell_type": "code",
   "execution_count": 147,
   "metadata": {
    "collapsed": false
   },
   "outputs": [
    {
     "data": {
      "text/plain": [
       "'Simulation sim1 results overwritten'"
      ]
     },
     "execution_count": 147,
     "metadata": {},
     "output_type": "execute_result"
    }
   ],
   "source": [
    "grwt.dataset.drop('partes', axis=1, inplace=True)\n",
    "ms.simulate(simname, period, income, resources, weight, key)"
   ]
  },
  {
   "cell_type": "code",
   "execution_count": 148,
   "metadata": {
    "collapsed": false
   },
   "outputs": [
    {
     "data": {
      "text/html": [
       "<div style=\"max-width:1500px;overflow:auto;\">\n",
       "<table border=\"1\" class=\"dataframe\">\n",
       "  <thead>\n",
       "    <tr style=\"text-align: right;\">\n",
       "      <th></th>\n",
       "      <th>year</th>\n",
       "      <th>grwtpatt</th>\n",
       "      <th>mean_inc</th>\n",
       "      <th>mean_ele</th>\n",
       "    </tr>\n",
       "  </thead>\n",
       "  <tbody>\n",
       "    <tr>\n",
       "      <th>2014</th>\n",
       "      <td>2014</td>\n",
       "      <td>none</td>\n",
       "      <td>13.135075</td>\n",
       "      <td>44.219901</td>\n",
       "    </tr>\n",
       "    <tr>\n",
       "      <th>2015</th>\n",
       "      <td>2015</td>\n",
       "      <td>alpha100</td>\n",
       "      <td>13.530998</td>\n",
       "      <td>44.787637</td>\n",
       "    </tr>\n",
       "    <tr>\n",
       "      <th>2016</th>\n",
       "      <td>2016</td>\n",
       "      <td>pwr2</td>\n",
       "      <td>14.888101</td>\n",
       "      <td>46.016438</td>\n",
       "    </tr>\n",
       "    <tr>\n",
       "      <th>2017</th>\n",
       "      <td>2017</td>\n",
       "      <td>alpha1000</td>\n",
       "      <td>15.368015</td>\n",
       "      <td>46.621498</td>\n",
       "    </tr>\n",
       "    <tr>\n",
       "      <th>2018</th>\n",
       "      <td>2018</td>\n",
       "      <td>grt20102011</td>\n",
       "      <td>14.966859</td>\n",
       "      <td>46.015880</td>\n",
       "    </tr>\n",
       "    <tr>\n",
       "      <th>2019</th>\n",
       "      <td>2019</td>\n",
       "      <td>flipped</td>\n",
       "      <td>15.367717</td>\n",
       "      <td>46.586747</td>\n",
       "    </tr>\n",
       "    <tr>\n",
       "      <th>2020</th>\n",
       "      <td>2020</td>\n",
       "      <td>pwr2</td>\n",
       "      <td>16.976449</td>\n",
       "      <td>47.896692</td>\n",
       "    </tr>\n",
       "    <tr>\n",
       "      <th>2021</th>\n",
       "      <td>2021</td>\n",
       "      <td>grt20082009</td>\n",
       "      <td>18.723941</td>\n",
       "      <td>49.506214</td>\n",
       "    </tr>\n",
       "    <tr>\n",
       "      <th>2022</th>\n",
       "      <td>2022</td>\n",
       "      <td>alpha1000</td>\n",
       "      <td>19.326054</td>\n",
       "      <td>50.156721</td>\n",
       "    </tr>\n",
       "    <tr>\n",
       "      <th>2023</th>\n",
       "      <td>2023</td>\n",
       "      <td>pshift</td>\n",
       "      <td>19.254872</td>\n",
       "      <td>50.448119</td>\n",
       "    </tr>\n",
       "    <tr>\n",
       "      <th>2024</th>\n",
       "      <td>2024</td>\n",
       "      <td>grt20102011</td>\n",
       "      <td>18.780383</td>\n",
       "      <td>49.804736</td>\n",
       "    </tr>\n",
       "    <tr>\n",
       "      <th>2025</th>\n",
       "      <td>2025</td>\n",
       "      <td>log</td>\n",
       "      <td>18.987497</td>\n",
       "      <td>50.014348</td>\n",
       "    </tr>\n",
       "    <tr>\n",
       "      <th>2026</th>\n",
       "      <td>2026</td>\n",
       "      <td>grt20092010</td>\n",
       "      <td>19.505547</td>\n",
       "      <td>50.661995</td>\n",
       "    </tr>\n",
       "    <tr>\n",
       "      <th>2027</th>\n",
       "      <td>2027</td>\n",
       "      <td>grt20072008</td>\n",
       "      <td>20.817719</td>\n",
       "      <td>51.553049</td>\n",
       "    </tr>\n",
       "    <tr>\n",
       "      <th>2028</th>\n",
       "      <td>2028</td>\n",
       "      <td>grt20102011</td>\n",
       "      <td>20.357300</td>\n",
       "      <td>50.905958</td>\n",
       "    </tr>\n",
       "    <tr>\n",
       "      <th>2029</th>\n",
       "      <td>2029</td>\n",
       "      <td>pshift</td>\n",
       "      <td>20.278454</td>\n",
       "      <td>51.204296</td>\n",
       "    </tr>\n",
       "    <tr>\n",
       "      <th>2030</th>\n",
       "      <td>2030</td>\n",
       "      <td>log</td>\n",
       "      <td>20.502146</td>\n",
       "      <td>51.419666</td>\n",
       "    </tr>\n",
       "  </tbody>\n",
       "</table>\n",
       "</div>"
      ],
      "text/plain": [
       "      year     grwtpatt   mean_inc   mean_ele\n",
       "2014  2014         none  13.135075  44.219901\n",
       "2015  2015     alpha100  13.530998  44.787637\n",
       "2016  2016         pwr2  14.888101  46.016438\n",
       "2017  2017    alpha1000  15.368015  46.621498\n",
       "2018  2018  grt20102011  14.966859  46.015880\n",
       "2019  2019      flipped  15.367717  46.586747\n",
       "2020  2020         pwr2  16.976449  47.896692\n",
       "2021  2021  grt20082009  18.723941  49.506214\n",
       "2022  2022    alpha1000  19.326054  50.156721\n",
       "2023  2023       pshift  19.254872  50.448119\n",
       "2024  2024  grt20102011  18.780383  49.804736\n",
       "2025  2025          log  18.987497  50.014348\n",
       "2026  2026  grt20092010  19.505547  50.661995\n",
       "2027  2027  grt20072008  20.817719  51.553049\n",
       "2028  2028  grt20102011  20.357300  50.905958\n",
       "2029  2029       pshift  20.278454  51.204296\n",
       "2030  2030          log  20.502146  51.419666"
      ]
     },
     "execution_count": 148,
     "metadata": {},
     "output_type": "execute_result"
    }
   ],
   "source": [
    "ms.results['sim1']['dataset']"
   ]
  },
  {
   "cell_type": "code",
   "execution_count": 149,
   "metadata": {
    "collapsed": false
   },
   "outputs": [
    {
     "data": {
      "text/plain": [
       "'Simulation sim1 results overwritten'"
      ]
     },
     "execution_count": 149,
     "metadata": {},
     "output_type": "execute_result"
    }
   ],
   "source": [
    "income = ('income', 'inc', 'grt20112012', grwt)\n",
    "ms.simulate(simname, period, income, resources, weight, key)"
   ]
  },
  {
   "cell_type": "code",
   "execution_count": 150,
   "metadata": {
    "collapsed": false
   },
   "outputs": [
    {
     "data": {
      "text/html": [
       "<div style=\"max-width:1500px;overflow:auto;\">\n",
       "<table border=\"1\" class=\"dataframe\">\n",
       "  <thead>\n",
       "    <tr style=\"text-align: right;\">\n",
       "      <th></th>\n",
       "      <th>year</th>\n",
       "      <th>grwtpatt</th>\n",
       "      <th>mean_inc</th>\n",
       "      <th>mean_ele</th>\n",
       "    </tr>\n",
       "  </thead>\n",
       "  <tbody>\n",
       "    <tr>\n",
       "      <th>2014</th>\n",
       "      <td>2014</td>\n",
       "      <td>none</td>\n",
       "      <td>13.135075</td>\n",
       "      <td>44.219901</td>\n",
       "    </tr>\n",
       "    <tr>\n",
       "      <th>2015</th>\n",
       "      <td>2015</td>\n",
       "      <td>grt20112012</td>\n",
       "      <td>13.336674</td>\n",
       "      <td>44.538705</td>\n",
       "    </tr>\n",
       "    <tr>\n",
       "      <th>2016</th>\n",
       "      <td>2016</td>\n",
       "      <td>grt20112012</td>\n",
       "      <td>13.563643</td>\n",
       "      <td>44.865550</td>\n",
       "    </tr>\n",
       "    <tr>\n",
       "      <th>2017</th>\n",
       "      <td>2017</td>\n",
       "      <td>grt20112012</td>\n",
       "      <td>13.816994</td>\n",
       "      <td>45.199565</td>\n",
       "    </tr>\n",
       "    <tr>\n",
       "      <th>2018</th>\n",
       "      <td>2018</td>\n",
       "      <td>grt20112012</td>\n",
       "      <td>14.100234</td>\n",
       "      <td>45.542708</td>\n",
       "    </tr>\n",
       "    <tr>\n",
       "      <th>2019</th>\n",
       "      <td>2019</td>\n",
       "      <td>grt20112012</td>\n",
       "      <td>14.416631</td>\n",
       "      <td>45.892105</td>\n",
       "    </tr>\n",
       "    <tr>\n",
       "      <th>2020</th>\n",
       "      <td>2020</td>\n",
       "      <td>grt20112012</td>\n",
       "      <td>14.771195</td>\n",
       "      <td>46.249028</td>\n",
       "    </tr>\n",
       "    <tr>\n",
       "      <th>2021</th>\n",
       "      <td>2021</td>\n",
       "      <td>grt20112012</td>\n",
       "      <td>15.169867</td>\n",
       "      <td>46.617020</td>\n",
       "    </tr>\n",
       "    <tr>\n",
       "      <th>2022</th>\n",
       "      <td>2022</td>\n",
       "      <td>grt20112012</td>\n",
       "      <td>15.618922</td>\n",
       "      <td>46.995719</td>\n",
       "    </tr>\n",
       "    <tr>\n",
       "      <th>2023</th>\n",
       "      <td>2023</td>\n",
       "      <td>grt20112012</td>\n",
       "      <td>16.128293</td>\n",
       "      <td>47.381974</td>\n",
       "    </tr>\n",
       "    <tr>\n",
       "      <th>2024</th>\n",
       "      <td>2024</td>\n",
       "      <td>grt20112012</td>\n",
       "      <td>16.709865</td>\n",
       "      <td>47.776361</td>\n",
       "    </tr>\n",
       "    <tr>\n",
       "      <th>2025</th>\n",
       "      <td>2025</td>\n",
       "      <td>grt20112012</td>\n",
       "      <td>17.378663</td>\n",
       "      <td>48.184566</td>\n",
       "    </tr>\n",
       "    <tr>\n",
       "      <th>2026</th>\n",
       "      <td>2026</td>\n",
       "      <td>grt20112012</td>\n",
       "      <td>18.153066</td>\n",
       "      <td>48.593599</td>\n",
       "    </tr>\n",
       "    <tr>\n",
       "      <th>2027</th>\n",
       "      <td>2027</td>\n",
       "      <td>grt20112012</td>\n",
       "      <td>19.055925</td>\n",
       "      <td>49.014723</td>\n",
       "    </tr>\n",
       "    <tr>\n",
       "      <th>2028</th>\n",
       "      <td>2028</td>\n",
       "      <td>grt20112012</td>\n",
       "      <td>20.114543</td>\n",
       "      <td>49.447448</td>\n",
       "    </tr>\n",
       "    <tr>\n",
       "      <th>2029</th>\n",
       "      <td>2029</td>\n",
       "      <td>grt20112012</td>\n",
       "      <td>21.364513</td>\n",
       "      <td>49.888582</td>\n",
       "    </tr>\n",
       "    <tr>\n",
       "      <th>2030</th>\n",
       "      <td>2030</td>\n",
       "      <td>grt20112012</td>\n",
       "      <td>22.848817</td>\n",
       "      <td>50.343344</td>\n",
       "    </tr>\n",
       "  </tbody>\n",
       "</table>\n",
       "</div>"
      ],
      "text/plain": [
       "      year     grwtpatt   mean_inc   mean_ele\n",
       "2014  2014         none  13.135075  44.219901\n",
       "2015  2015  grt20112012  13.336674  44.538705\n",
       "2016  2016  grt20112012  13.563643  44.865550\n",
       "2017  2017  grt20112012  13.816994  45.199565\n",
       "2018  2018  grt20112012  14.100234  45.542708\n",
       "2019  2019  grt20112012  14.416631  45.892105\n",
       "2020  2020  grt20112012  14.771195  46.249028\n",
       "2021  2021  grt20112012  15.169867  46.617020\n",
       "2022  2022  grt20112012  15.618922  46.995719\n",
       "2023  2023  grt20112012  16.128293  47.381974\n",
       "2024  2024  grt20112012  16.709865  47.776361\n",
       "2025  2025  grt20112012  17.378663  48.184566\n",
       "2026  2026  grt20112012  18.153066  48.593599\n",
       "2027  2027  grt20112012  19.055925  49.014723\n",
       "2028  2028  grt20112012  20.114543  49.447448\n",
       "2029  2029  grt20112012  21.364513  49.888582\n",
       "2030  2030  grt20112012  22.848817  50.343344"
      ]
     },
     "execution_count": 150,
     "metadata": {},
     "output_type": "execute_result"
    }
   ],
   "source": [
    "ms.results['sim1']['dataset']"
   ]
  },
  {
   "cell_type": "code",
   "execution_count": 151,
   "metadata": {
    "collapsed": false
   },
   "outputs": [
    {
     "data": {
      "text/plain": [
       "['log',\n",
       " 'log1',\n",
       " 'ln',\n",
       " 'flipped',\n",
       " 'alpha100',\n",
       " 'alpha1000',\n",
       " 'log2',\n",
       " 'pwr',\n",
       " 'pwr1',\n",
       " 'pwr2',\n",
       " 'pwr3',\n",
       " 'pwr4',\n",
       " 'pshift']"
      ]
     },
     "execution_count": 151,
     "metadata": {},
     "output_type": "execute_result"
    }
   ],
   "source": [
    "todrop = [pat for pat in grwt.dataset if not 'grt' in pat and pat is not grwt.key]\n",
    "todrop"
   ]
  },
  {
   "cell_type": "code",
   "execution_count": 152,
   "metadata": {
    "collapsed": false
   },
   "outputs": [
    {
     "data": {
      "text/plain": [
       "Index([u'key', u'grt20072008', u'grt20082009', u'grt20092010', u'grt20102011',\n",
       "       u'grt20112012', u'grt20122013', u'grt20132014'],\n",
       "      dtype='object')"
      ]
     },
     "execution_count": 152,
     "metadata": {},
     "output_type": "execute_result"
    }
   ],
   "source": [
    "grwt.dataset.drop(todrop, axis=1, inplace=True)\n",
    "grwt.dataset.columns"
   ]
  },
  {
   "cell_type": "code",
   "execution_count": 153,
   "metadata": {
    "collapsed": false
   },
   "outputs": [
    {
     "data": {
      "text/html": [
       "<div style=\"max-width:1500px;overflow:auto;\">\n",
       "<table border=\"1\" class=\"dataframe\">\n",
       "  <thead>\n",
       "    <tr style=\"text-align: right;\">\n",
       "      <th></th>\n",
       "      <th>year</th>\n",
       "      <th>grwtpatt</th>\n",
       "      <th>mean_inc</th>\n",
       "      <th>mean_ele</th>\n",
       "    </tr>\n",
       "  </thead>\n",
       "  <tbody>\n",
       "    <tr>\n",
       "      <th>2014</th>\n",
       "      <td>2014</td>\n",
       "      <td>none</td>\n",
       "      <td>13.135075</td>\n",
       "      <td>44.219901</td>\n",
       "    </tr>\n",
       "    <tr>\n",
       "      <th>2015</th>\n",
       "      <td>2015</td>\n",
       "      <td>grt20072008</td>\n",
       "      <td>13.945927</td>\n",
       "      <td>44.972731</td>\n",
       "    </tr>\n",
       "    <tr>\n",
       "      <th>2016</th>\n",
       "      <td>2016</td>\n",
       "      <td>grt20082009</td>\n",
       "      <td>15.330969</td>\n",
       "      <td>46.449784</td>\n",
       "    </tr>\n",
       "    <tr>\n",
       "      <th>2017</th>\n",
       "      <td>2017</td>\n",
       "      <td>grt20092010</td>\n",
       "      <td>15.746268</td>\n",
       "      <td>47.052027</td>\n",
       "    </tr>\n",
       "    <tr>\n",
       "      <th>2018</th>\n",
       "      <td>2018</td>\n",
       "      <td>grt20102011</td>\n",
       "      <td>15.346951</td>\n",
       "      <td>46.448222</td>\n",
       "    </tr>\n",
       "    <tr>\n",
       "      <th>2019</th>\n",
       "      <td>2019</td>\n",
       "      <td>grt20112012</td>\n",
       "      <td>15.573186</td>\n",
       "      <td>46.777749</td>\n",
       "    </tr>\n",
       "    <tr>\n",
       "      <th>2020</th>\n",
       "      <td>2020</td>\n",
       "      <td>grt20122013</td>\n",
       "      <td>15.241837</td>\n",
       "      <td>46.291444</td>\n",
       "    </tr>\n",
       "    <tr>\n",
       "      <th>2021</th>\n",
       "      <td>2021</td>\n",
       "      <td>grt20132014</td>\n",
       "      <td>14.060584</td>\n",
       "      <td>44.465783</td>\n",
       "    </tr>\n",
       "    <tr>\n",
       "      <th>2022</th>\n",
       "      <td>2022</td>\n",
       "      <td>grt20072008</td>\n",
       "      <td>14.983143</td>\n",
       "      <td>45.246351</td>\n",
       "    </tr>\n",
       "    <tr>\n",
       "      <th>2023</th>\n",
       "      <td>2023</td>\n",
       "      <td>grt20082009</td>\n",
       "      <td>16.523991</td>\n",
       "      <td>46.773755</td>\n",
       "    </tr>\n",
       "    <tr>\n",
       "      <th>2024</th>\n",
       "      <td>2024</td>\n",
       "      <td>grt20092010</td>\n",
       "      <td>16.954116</td>\n",
       "      <td>47.384560</td>\n",
       "    </tr>\n",
       "    <tr>\n",
       "      <th>2025</th>\n",
       "      <td>2025</td>\n",
       "      <td>grt20102011</td>\n",
       "      <td>16.535351</td>\n",
       "      <td>46.785985</td>\n",
       "    </tr>\n",
       "    <tr>\n",
       "      <th>2026</th>\n",
       "      <td>2026</td>\n",
       "      <td>grt20112012</td>\n",
       "      <td>16.776762</td>\n",
       "      <td>47.115835</td>\n",
       "    </tr>\n",
       "    <tr>\n",
       "      <th>2027</th>\n",
       "      <td>2027</td>\n",
       "      <td>grt20122013</td>\n",
       "      <td>16.443894</td>\n",
       "      <td>46.658567</td>\n",
       "    </tr>\n",
       "    <tr>\n",
       "      <th>2028</th>\n",
       "      <td>2028</td>\n",
       "      <td>grt20132014</td>\n",
       "      <td>15.239554</td>\n",
       "      <td>44.859005</td>\n",
       "    </tr>\n",
       "    <tr>\n",
       "      <th>2029</th>\n",
       "      <td>2029</td>\n",
       "      <td>grt20072008</td>\n",
       "      <td>16.297752</td>\n",
       "      <td>45.673384</td>\n",
       "    </tr>\n",
       "    <tr>\n",
       "      <th>2030</th>\n",
       "      <td>2030</td>\n",
       "      <td>grt20082009</td>\n",
       "      <td>18.019213</td>\n",
       "      <td>47.255200</td>\n",
       "    </tr>\n",
       "  </tbody>\n",
       "</table>\n",
       "</div>"
      ],
      "text/plain": [
       "      year     grwtpatt   mean_inc   mean_ele\n",
       "2014  2014         none  13.135075  44.219901\n",
       "2015  2015  grt20072008  13.945927  44.972731\n",
       "2016  2016  grt20082009  15.330969  46.449784\n",
       "2017  2017  grt20092010  15.746268  47.052027\n",
       "2018  2018  grt20102011  15.346951  46.448222\n",
       "2019  2019  grt20112012  15.573186  46.777749\n",
       "2020  2020  grt20122013  15.241837  46.291444\n",
       "2021  2021  grt20132014  14.060584  44.465783\n",
       "2022  2022  grt20072008  14.983143  45.246351\n",
       "2023  2023  grt20082009  16.523991  46.773755\n",
       "2024  2024  grt20092010  16.954116  47.384560\n",
       "2025  2025  grt20102011  16.535351  46.785985\n",
       "2026  2026  grt20112012  16.776762  47.115835\n",
       "2027  2027  grt20122013  16.443894  46.658567\n",
       "2028  2028  grt20132014  15.239554  44.859005\n",
       "2029  2029  grt20072008  16.297752  45.673384\n",
       "2030  2030  grt20082009  18.019213  47.255200"
      ]
     },
     "execution_count": 153,
     "metadata": {},
     "output_type": "execute_result"
    }
   ],
   "source": [
    "simname = 'sim2'\n",
    "income = ('income', 'inc', 'order', grwt)\n",
    "ms.simulate(simname, period, income, resources, weight, key)\n",
    "ms.results['sim2']['dataset']"
   ]
  },
  {
   "cell_type": "code",
   "execution_count": 154,
   "metadata": {
    "collapsed": false
   },
   "outputs": [
    {
     "data": {
      "text/plain": [
       "['sim2', 'sim1']"
      ]
     },
     "execution_count": 154,
     "metadata": {},
     "output_type": "execute_result"
    }
   ],
   "source": [
    "ms.results.keys()"
   ]
  },
  {
   "cell_type": "code",
   "execution_count": 155,
   "metadata": {
    "collapsed": false
   },
   "outputs": [
    {
     "data": {
      "text/plain": [
       "'sim2'"
      ]
     },
     "execution_count": 155,
     "metadata": {},
     "output_type": "execute_result"
    }
   ],
   "source": [
    "ms.cursim"
   ]
  },
  {
   "cell_type": "code",
   "execution_count": 156,
   "metadata": {
    "collapsed": false
   },
   "outputs": [
    {
     "data": {
      "text/plain": [
       "2014    13.135075\n",
       "2015    13.945927\n",
       "2016    15.330969\n",
       "2017    15.746268\n",
       "2018    15.346951\n",
       "2019    15.573186\n",
       "2020    15.241837\n",
       "2021    14.060584\n",
       "2022    14.983143\n",
       "2023    16.523991\n",
       "2024    16.954116\n",
       "2025    16.535351\n",
       "2026    16.776762\n",
       "2027    16.443894\n",
       "2028    15.239554\n",
       "2029    16.297752\n",
       "2030    18.019213\n",
       "dtype: float64"
      ]
     },
     "execution_count": 156,
     "metadata": {},
     "output_type": "execute_result"
    }
   ],
   "source": [
    "ms.mean('inc', 'wgt')"
   ]
  },
  {
   "cell_type": "code",
   "execution_count": 157,
   "metadata": {
    "collapsed": false
   },
   "outputs": [
    {
     "data": {
      "text/plain": [
       "2014    13.168533\n",
       "2015    13.981450\n",
       "2016    15.370021\n",
       "2017    15.786377\n",
       "2018    15.386044\n",
       "2019    15.612854\n",
       "2020    15.280661\n",
       "2021    14.096399\n",
       "2022    15.021308\n",
       "2023    16.566081\n",
       "2024    16.997302\n",
       "2025    16.577470\n",
       "2026    16.819496\n",
       "2027    16.485780\n",
       "2028    15.278373\n",
       "2029    16.339266\n",
       "2030    18.065112\n",
       "dtype: float64"
      ]
     },
     "execution_count": 157,
     "metadata": {},
     "output_type": "execute_result"
    }
   ],
   "source": [
    "ms.mean('inc', 'wgt', nozero=True)"
   ]
  },
  {
   "cell_type": "code",
   "execution_count": 158,
   "metadata": {
    "collapsed": false
   },
   "outputs": [
    {
     "name": "stdout",
     "output_type": "stream",
     "text": [
      "\n",
      "There were zeroes in incxxxx\n",
      "Ge(1) did not consider those obs.\n"
     ]
    },
    {
     "name": "stderr",
     "output_type": "stream",
     "text": [
      "ipc_microsim_tool.py:476: SettingWithCopyWarning: \n",
      "A value is trying to be set on a copy of a slice from a DataFrame\n",
      "\n",
      "See the caveats in the documentation: http://pandas.pydata.org/pandas-docs/stable/indexing.html#indexing-view-versus-copy\n",
      "  == np.inf] = 0\n"
     ]
    },
    {
     "data": {
      "text/plain": [
       "2014    0.358208\n",
       "2015    0.413545\n",
       "2016    0.435598\n",
       "2017    0.416442\n",
       "2018    0.434503\n",
       "2019    0.432726\n",
       "2020    0.413939\n",
       "2021    0.452402\n",
       "2022    0.514825\n",
       "2023    0.536216\n",
       "2024    0.513686\n",
       "2025    0.532373\n",
       "2026    0.532590\n",
       "2027    0.507600\n",
       "2028    0.548020\n",
       "2029    0.617247\n",
       "2030    0.636914\n",
       "dtype: float64"
      ]
     },
     "execution_count": 158,
     "metadata": {},
     "output_type": "execute_result"
    }
   ],
   "source": [
    "ms.inequality_ge('inc', 'wgt', 1)"
   ]
  },
  {
   "cell_type": "code",
   "execution_count": 159,
   "metadata": {
    "collapsed": false
   },
   "outputs": [
    {
     "name": "stdout",
     "output_type": "stream",
     "text": [
      "\n",
      "There were zeroes in incxxxx\n"
     ]
    },
    {
     "name": "stderr",
     "output_type": "stream",
     "text": [
      "ipc_microsim_tool.py:482: SettingWithCopyWarning: \n",
      "A value is trying to be set on a copy of a slice from a DataFrame\n",
      "\n",
      "See the caveats in the documentation: http://pandas.pydata.org/pandas-docs/stable/indexing.html#indexing-view-versus-copy\n",
      "  == np.inf] = 0\n"
     ]
    },
    {
     "data": {
      "text/plain": [
       "2014    0.618484\n",
       "2015    0.953791\n",
       "2016    0.963800\n",
       "2017    0.808664\n",
       "2018    0.898244\n",
       "2019    0.985938\n",
       "2020    0.692153\n",
       "2021    0.793192\n",
       "2022    1.223512\n",
       "2023    1.219467\n",
       "2024    1.019149\n",
       "2025    1.122334\n",
       "2026    1.251653\n",
       "2027    0.864033\n",
       "2028    0.984311\n",
       "2029    1.524991\n",
       "2030    1.501470\n",
       "dtype: float64"
      ]
     },
     "execution_count": 159,
     "metadata": {},
     "output_type": "execute_result"
    }
   ],
   "source": [
    "ms.inequality_ge('inc', 'wgt', 2)"
   ]
  },
  {
   "cell_type": "code",
   "execution_count": 160,
   "metadata": {
    "collapsed": false
   },
   "outputs": [
    {
     "name": "stdout",
     "output_type": "stream",
     "text": [
      "\n",
      "There were zeroes in incxxxx\n",
      "Ge(2) did not consider those obs.\n"
     ]
    },
    {
     "data": {
      "text/plain": [
       "2014    0.615642\n",
       "2015    0.950098\n",
       "2016    0.960081\n",
       "2017    0.805339\n",
       "2018    0.894692\n",
       "2019    0.982163\n",
       "2020    0.689124\n",
       "2021    0.789907\n",
       "2022    1.219133\n",
       "2023    1.215099\n",
       "2024    1.015289\n",
       "2025    1.118212\n",
       "2026    1.247203\n",
       "2027    0.860568\n",
       "2028    0.980540\n",
       "2029    1.519846\n",
       "2030    1.496385\n",
       "dtype: float64"
      ]
     },
     "execution_count": 160,
     "metadata": {},
     "output_type": "execute_result"
    }
   ],
   "source": [
    "ms.inequality_ge('inc', 'wgt', 2, nozero=True)"
   ]
  },
  {
   "cell_type": "code",
   "execution_count": 161,
   "metadata": {
    "collapsed": false
   },
   "outputs": [
    {
     "name": "stderr",
     "output_type": "stream",
     "text": [
      "ipc_microsim_tool.py:505: FutureWarning: sort(columns=....) is deprecated, use sort_values(by=.....)\n",
      "  self.dataset.sort(curvar, inplace=True)\n"
     ]
    },
    {
     "data": {
      "text/plain": [
       "2014    0.439520\n",
       "2015    0.456018\n",
       "2016    0.471638\n",
       "2017    0.467786\n",
       "2018    0.472887\n",
       "2019    0.469347\n",
       "2020    0.476378\n",
       "2021    0.496661\n",
       "2022    0.512832\n",
       "2023    0.526399\n",
       "2024    0.521924\n",
       "2025    0.526567\n",
       "2026    0.523644\n",
       "2027    0.528173\n",
       "2028    0.546284\n",
       "2029    0.562039\n",
       "2030    0.573644\n",
       "dtype: float64"
      ]
     },
     "execution_count": 161,
     "metadata": {},
     "output_type": "execute_result"
    }
   ],
   "source": [
    "ms.inequality_gini('inc', 'wgt')"
   ]
  },
  {
   "cell_type": "code",
   "execution_count": 162,
   "metadata": {
    "collapsed": false
   },
   "outputs": [
    {
     "data": {
      "text/html": [
       "<div style=\"max-width:1500px;overflow:auto;\">\n",
       "<table border=\"1\" class=\"dataframe\">\n",
       "  <thead>\n",
       "    <tr style=\"text-align: right;\">\n",
       "      <th></th>\n",
       "      <th>p0(3.1)</th>\n",
       "      <th>p1(3.1)</th>\n",
       "      <th>p2(3.1)</th>\n",
       "      <th>pgap(3.1)</th>\n",
       "      <th>pge2(3.1)</th>\n",
       "    </tr>\n",
       "  </thead>\n",
       "  <tbody>\n",
       "    <tr>\n",
       "      <th>2014</th>\n",
       "      <td>0.063151</td>\n",
       "      <td>0.018115</td>\n",
       "      <td>0.008808</td>\n",
       "      <td>0.286855</td>\n",
       "      <td>0.056225</td>\n",
       "    </tr>\n",
       "    <tr>\n",
       "      <th>2015</th>\n",
       "      <td>0.059418</td>\n",
       "      <td>0.017327</td>\n",
       "      <td>0.008509</td>\n",
       "      <td>0.291606</td>\n",
       "      <td>0.057952</td>\n",
       "    </tr>\n",
       "    <tr>\n",
       "      <th>2016</th>\n",
       "      <td>0.057368</td>\n",
       "      <td>0.017742</td>\n",
       "      <td>0.009153</td>\n",
       "      <td>0.309264</td>\n",
       "      <td>0.066971</td>\n",
       "    </tr>\n",
       "    <tr>\n",
       "      <th>2017</th>\n",
       "      <td>0.057368</td>\n",
       "      <td>0.017226</td>\n",
       "      <td>0.009020</td>\n",
       "      <td>0.300274</td>\n",
       "      <td>0.068496</td>\n",
       "    </tr>\n",
       "    <tr>\n",
       "      <th>2018</th>\n",
       "      <td>0.061553</td>\n",
       "      <td>0.019203</td>\n",
       "      <td>0.009986</td>\n",
       "      <td>0.311965</td>\n",
       "      <td>0.068567</td>\n",
       "    </tr>\n",
       "    <tr>\n",
       "      <th>2019</th>\n",
       "      <td>0.061553</td>\n",
       "      <td>0.019155</td>\n",
       "      <td>0.009991</td>\n",
       "      <td>0.311196</td>\n",
       "      <td>0.068999</td>\n",
       "    </tr>\n",
       "    <tr>\n",
       "      <th>2020</th>\n",
       "      <td>0.076064</td>\n",
       "      <td>0.027068</td>\n",
       "      <td>0.014246</td>\n",
       "      <td>0.355861</td>\n",
       "      <td>0.073091</td>\n",
       "    </tr>\n",
       "    <tr>\n",
       "      <th>2021</th>\n",
       "      <td>0.108574</td>\n",
       "      <td>0.037465</td>\n",
       "      <td>0.018915</td>\n",
       "      <td>0.345064</td>\n",
       "      <td>0.064276</td>\n",
       "    </tr>\n",
       "    <tr>\n",
       "      <th>2022</th>\n",
       "      <td>0.103877</td>\n",
       "      <td>0.036053</td>\n",
       "      <td>0.018228</td>\n",
       "      <td>0.347076</td>\n",
       "      <td>0.064521</td>\n",
       "    </tr>\n",
       "    <tr>\n",
       "      <th>2023</th>\n",
       "      <td>0.100205</td>\n",
       "      <td>0.035453</td>\n",
       "      <td>0.018458</td>\n",
       "      <td>0.353808</td>\n",
       "      <td>0.070672</td>\n",
       "    </tr>\n",
       "    <tr>\n",
       "      <th>2024</th>\n",
       "      <td>0.096938</td>\n",
       "      <td>0.034413</td>\n",
       "      <td>0.018060</td>\n",
       "      <td>0.355003</td>\n",
       "      <td>0.072445</td>\n",
       "    </tr>\n",
       "    <tr>\n",
       "      <th>2025</th>\n",
       "      <td>0.104987</td>\n",
       "      <td>0.037395</td>\n",
       "      <td>0.019684</td>\n",
       "      <td>0.356183</td>\n",
       "      <td>0.073125</td>\n",
       "    </tr>\n",
       "    <tr>\n",
       "      <th>2026</th>\n",
       "      <td>0.100762</td>\n",
       "      <td>0.036697</td>\n",
       "      <td>0.019530</td>\n",
       "      <td>0.364192</td>\n",
       "      <td>0.075679</td>\n",
       "    </tr>\n",
       "    <tr>\n",
       "      <th>2027</th>\n",
       "      <td>0.112846</td>\n",
       "      <td>0.046063</td>\n",
       "      <td>0.025818</td>\n",
       "      <td>0.408195</td>\n",
       "      <td>0.088748</td>\n",
       "    </tr>\n",
       "    <tr>\n",
       "      <th>2028</th>\n",
       "      <td>0.156990</td>\n",
       "      <td>0.060421</td>\n",
       "      <td>0.033663</td>\n",
       "      <td>0.384869</td>\n",
       "      <td>0.087609</td>\n",
       "    </tr>\n",
       "    <tr>\n",
       "      <th>2029</th>\n",
       "      <td>0.147193</td>\n",
       "      <td>0.058118</td>\n",
       "      <td>0.032531</td>\n",
       "      <td>0.394845</td>\n",
       "      <td>0.088892</td>\n",
       "    </tr>\n",
       "    <tr>\n",
       "      <th>2030</th>\n",
       "      <td>0.140919</td>\n",
       "      <td>0.056754</td>\n",
       "      <td>0.032264</td>\n",
       "      <td>0.402745</td>\n",
       "      <td>0.093559</td>\n",
       "    </tr>\n",
       "  </tbody>\n",
       "</table>\n",
       "</div>"
      ],
      "text/plain": [
       "       p0(3.1)   p1(3.1)   p2(3.1)  pgap(3.1)  pge2(3.1)\n",
       "2014  0.063151  0.018115  0.008808   0.286855   0.056225\n",
       "2015  0.059418  0.017327  0.008509   0.291606   0.057952\n",
       "2016  0.057368  0.017742  0.009153   0.309264   0.066971\n",
       "2017  0.057368  0.017226  0.009020   0.300274   0.068496\n",
       "2018  0.061553  0.019203  0.009986   0.311965   0.068567\n",
       "2019  0.061553  0.019155  0.009991   0.311196   0.068999\n",
       "2020  0.076064  0.027068  0.014246   0.355861   0.073091\n",
       "2021  0.108574  0.037465  0.018915   0.345064   0.064276\n",
       "2022  0.103877  0.036053  0.018228   0.347076   0.064521\n",
       "2023  0.100205  0.035453  0.018458   0.353808   0.070672\n",
       "2024  0.096938  0.034413  0.018060   0.355003   0.072445\n",
       "2025  0.104987  0.037395  0.019684   0.356183   0.073125\n",
       "2026  0.100762  0.036697  0.019530   0.364192   0.075679\n",
       "2027  0.112846  0.046063  0.025818   0.408195   0.088748\n",
       "2028  0.156990  0.060421  0.033663   0.384869   0.087609\n",
       "2029  0.147193  0.058118  0.032531   0.394845   0.088892\n",
       "2030  0.140919  0.056754  0.032264   0.402745   0.093559"
      ]
     },
     "execution_count": 162,
     "metadata": {},
     "output_type": "execute_result"
    }
   ],
   "source": [
    "ms.poverty('inc', 'wgt',[3.1])"
   ]
  },
  {
   "cell_type": "code",
   "execution_count": 163,
   "metadata": {
    "collapsed": false
   },
   "outputs": [
    {
     "name": "stderr",
     "output_type": "stream",
     "text": [
      "ipc_microsim_tool.py:413: FutureWarning: icol(i) is deprecated. Please use .iloc[:,i]\n",
      "  cmp1 = pop.projection.icol(0).loc[period[0]:period[1]]\n",
      "ipc_microsim_tool.py:414: FutureWarning: icol(i) is deprecated. Please use .iloc[:,i]\n",
      "  cmp2 = ram.RAM.icol(0)\n"
     ]
    },
    {
     "data": {
      "text/plain": [
       "2014    760.660509\n",
       "2015    776.443173\n",
       "2016    804.619145\n",
       "2017    817.535865\n",
       "2018    809.296343\n",
       "2019    817.144433\n",
       "2020    810.602765\n",
       "2021    780.382461\n",
       "2022    795.717879\n",
       "2023    824.123726\n",
       "2024    836.303803\n",
       "2025    826.992993\n",
       "2026    833.937680\n",
       "2027    826.793191\n",
       "2028    795.652394\n",
       "2029    810.666607\n",
       "2030    839.116172\n",
       "dtype: float64"
      ]
     },
     "execution_count": 163,
     "metadata": {},
     "output_type": "execute_result"
    }
   ],
   "source": [
    "ms.totaldemand('ele', pop, ram, 1.13, 1e6)"
   ]
  },
  {
   "cell_type": "code",
   "execution_count": 164,
   "metadata": {
    "collapsed": false
   },
   "outputs": [
    {
     "name": "stderr",
     "output_type": "stream",
     "text": [
      "-c:1: FutureWarning: icol(i) is deprecated. Please use .iloc[:,i]\n",
      "ipc_microsim_tool.py:469: SettingWithCopyWarning: \n",
      "A value is trying to be set on a copy of a slice from a DataFrame\n",
      "\n",
      "See the caveats in the documentation: http://pandas.pydata.org/pandas-docs/stable/indexing.html#indexing-view-versus-copy\n",
      "  == np.inf] = 0\n"
     ]
    },
    {
     "name": "stdout",
     "output_type": "stream",
     "text": [
      "\n",
      "There were zeroes in elexxxx\n",
      "Ge(0) did not consider those obs.\n",
      "\n",
      "There were zeroes in elexxxx\n",
      "Ge(1) did not consider those obs.\n",
      "\n",
      "There were zeroes in incxxxx\n",
      "Ge(0) did not consider those obs.\n",
      "\n",
      "There were zeroes in incxxxx\n",
      "Ge(1) did not consider those obs.\n"
     ]
    }
   ],
   "source": [
    "ms.add_results(pop.projection.icol(0).loc[2014:2030], 'PopMedvarWPP')\n",
    "ms.add_results(ram.RAM)\n",
    "ms.add_results(ms.totaldemand('ele', pop, ram, 1.13), 'eleGWh')\n",
    "ms.add_results(ms.inequality_gini('ele', 'wgt'), 'eleGini')\n",
    "ms.add_results(ms.inequality_ge('ele', 'wgt', 0), 'eleTheilL')\n",
    "ms.add_results(ms.inequality_ge('ele', 'wgt', 1), 'eleTheilT')\n",
    "ms.add_results(ms.inequality_gini('inc', 'wgt'), 'Gini')\n",
    "ms.add_results(ms.inequality_ge('inc', 'wgt', 0), 'TheilL')\n",
    "ms.add_results(ms.inequality_ge('inc', 'wgt', 1), 'TheilT')\n",
    "ms.add_results(ms.poverty('inc', 'wgt',[1.9, 3.1]))"
   ]
  },
  {
   "cell_type": "code",
   "execution_count": 165,
   "metadata": {
    "collapsed": false
   },
   "outputs": [
    {
     "name": "stdout",
     "output_type": "stream",
     "text": [
      "Running simulations!\n",
      ". . . . . . . . . . . . . . . . . . . . . . . . . . . . . . . . . . . . . . . . . . . . . . . . . . . . . . . . . . . . . . . . . . . . . . . . . . . . . . . . . . . . . . . . . . . . . . . . . . . . . . . . . . . . . . . . . . . . . . . . . . . . . . . . . . . . . . . . . . . . . . . . . . . . . . . . . . . . . . . . . . . . . . . . . . . . . . . . . . . . . . . . . . . . . . . . . . . . . . . . . . . . . . . . . . . . . . . . . . . . . . . . . . . . . . . . . . . . . . . . . . . . . . . . . . . . . . . . . . . . . . . . . . . . . . . . . . . . . . . . . . . . . . . . . . . . . . . . . . . . . . . . . . . . . . . . . . . . . . . . . . . . . . . . . . . . . . . . . . . . . . . . . . . . . . . . . . . . . . . . . . . . . . . . . . . . . . . . . . . . . . . . . . . . . . . . . . . . . . . . . . . . . . . . . . . . . . . . . . . . . . . . . . . . . . . . . . . . . . . . . . . . . . . . . . . . . . . . . . . . . . . . . . . . . . . . . . . . . . . . . . . . . . . . . . . . . . . . . . . . . . . . . . . . . . . . . . . . . . . . . . . . . . . . . . . . . . . . . . . . . . . . . . . . . . . . . . . . . . . . . . . . . . . . . . . . . . . . . . . . . . . . . . . . . . . . . . . . . . . . . . . . . . . . . . . . . . . . . . . . . . . . . . . . . . . . . . . . . . . . . . . . . . . . . . . . . . . . . . . . . . . . . . . . . . . . . . . . . . . . . . . . . . . . . . . . . . . . . . . . . . . . . . . . . . . . . . . . . . . . . . . . . . . . . . . . . . . . . . . . . . . . . . . . . . . . . . . . . . . . . . . . . . . . . . . . . . . . . . . . . . . . . . . . . . . . . . . . . . . . . . . . . . . . . . . . . . . . . . . . . . . . . . . . . . . . . . . . . . . . . . . . . . . . . . . . . . . . . . . . . . . . . . . . . . . . . . . . . . . . . . . . . . . . . . . . . . . . . . . . . . . . . . . . . . . . . . . . . . . . . . . . . . . . . . . . . . . . . . . . . . . . . . . . . . . . . . . . . . . . . . . . . . . . . . . . . . . . . . . . . . . . . . . . . . . . . . . . . . . .\n"
     ]
    }
   ],
   "source": [
    "simname = 'mult'\n",
    "income = ('income', 'inc', 'random', grwt)\n",
    "totaldemand = pd.DataFrame()\n",
    "avgincome = pd.DataFrame()\n",
    "gini = pd.DataFrame()\n",
    "pov310 = pd.DataFrame()\n",
    "print 'Running simulations!'\n",
    "for sim in range(1000):\n",
    "    print '.',\n",
    "    ms.simulate(simname, period, income, resources, weight, key)\n",
    "    out = pd.DataFrame(ms.totaldemand('ele', pop, ram, 1.13))\n",
    "    totaldemand = pd.concat((totaldemand, out.T), ignore_index=True)\n",
    "    out = pd.DataFrame(ms.mean('inc', 'wgt'))\n",
    "    avgincome = pd.concat((avgincome, out.T), ignore_index=True)\n",
    "    out = pd.DataFrame(ms.inequality_gini('inc', 'wgt'))\n",
    "    gini = pd.concat((gini, out.T), ignore_index=True)\n",
    "    out = pd.DataFrame(ms.poverty('inc', 'wgt', [3.1])['p0(3.1)'])\n",
    "    pov310 = pd.concat((pov310, out.T), ignore_index=True)\n",
    "\n"
   ]
  },
  {
   "cell_type": "code",
   "execution_count": 166,
   "metadata": {
    "collapsed": false
   },
   "outputs": [],
   "source": [
    "totaldemand.to_csv('result/1000simstd.csv', '\\t')\n",
    "avgincome.to_csv('result/1000simsavg.csv', '\\t')\n",
    "gini.to_csv('result/1000simsgini.csv', '\\t')\n",
    "pov310.to_csv('result/1000simspov310.csv', '\\t')"
   ]
  },
  {
   "cell_type": "code",
   "execution_count": null,
   "metadata": {
    "collapsed": true
   },
   "outputs": [],
   "source": []
  }
 ],
 "metadata": {
  "kernelspec": {
   "display_name": "Python 2",
   "language": "python",
   "name": "python2"
  },
  "language_info": {
   "codemirror_mode": {
    "name": "ipython",
    "version": 2
   },
   "file_extension": ".py",
   "mimetype": "text/x-python",
   "name": "python",
   "nbconvert_exporter": "python",
   "pygments_lexer": "ipython2",
   "version": "2.7.11"
  }
 },
 "nbformat": 4,
 "nbformat_minor": 0
}
